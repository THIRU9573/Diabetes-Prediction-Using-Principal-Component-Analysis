{
 "cells": [
  {
   "cell_type": "code",
   "execution_count": 17,
   "id": "5aa19832",
   "metadata": {},
   "outputs": [],
   "source": [
    "import numpy as np\n",
    "import pandas as pd \n",
    "import seaborn as sns\n",
    "import matplotlib.pyplot as plt"
   ]
  },
  {
   "cell_type": "code",
   "execution_count": 18,
   "id": "bb54d818",
   "metadata": {},
   "outputs": [],
   "source": [
    "data  = pd.read_csv(\"C:/Users/thiru/Downloads/diabetes (1).csv\")"
   ]
  },
  {
   "cell_type": "code",
   "execution_count": 19,
   "id": "f9fa60ae",
   "metadata": {},
   "outputs": [
    {
     "data": {
      "text/html": [
       "<div>\n",
       "<style scoped>\n",
       "    .dataframe tbody tr th:only-of-type {\n",
       "        vertical-align: middle;\n",
       "    }\n",
       "\n",
       "    .dataframe tbody tr th {\n",
       "        vertical-align: top;\n",
       "    }\n",
       "\n",
       "    .dataframe thead th {\n",
       "        text-align: right;\n",
       "    }\n",
       "</style>\n",
       "<table border=\"1\" class=\"dataframe\">\n",
       "  <thead>\n",
       "    <tr style=\"text-align: right;\">\n",
       "      <th></th>\n",
       "      <th>Pregnancies2</th>\n",
       "      <th>Glucose2</th>\n",
       "      <th>BloodPressure2</th>\n",
       "      <th>SkinThickness2</th>\n",
       "      <th>Insulin2</th>\n",
       "      <th>BMI2</th>\n",
       "      <th>DiabetesPedigreeFunction2</th>\n",
       "      <th>Age2</th>\n",
       "      <th>Pregnancies</th>\n",
       "      <th>Glucose</th>\n",
       "      <th>BloodPressure</th>\n",
       "      <th>SkinThickness</th>\n",
       "      <th>Insulin</th>\n",
       "      <th>BMI</th>\n",
       "      <th>DiabetesPedigreeFunction</th>\n",
       "      <th>Age</th>\n",
       "      <th>Outcome</th>\n",
       "    </tr>\n",
       "  </thead>\n",
       "  <tbody>\n",
       "    <tr>\n",
       "      <th>0</th>\n",
       "      <td>6</td>\n",
       "      <td>148</td>\n",
       "      <td>72</td>\n",
       "      <td>35</td>\n",
       "      <td>0</td>\n",
       "      <td>33.6</td>\n",
       "      <td>0.627</td>\n",
       "      <td>50</td>\n",
       "      <td>6</td>\n",
       "      <td>148</td>\n",
       "      <td>72</td>\n",
       "      <td>35</td>\n",
       "      <td>0</td>\n",
       "      <td>33.6</td>\n",
       "      <td>0.627</td>\n",
       "      <td>50</td>\n",
       "      <td>1</td>\n",
       "    </tr>\n",
       "    <tr>\n",
       "      <th>1</th>\n",
       "      <td>1</td>\n",
       "      <td>85</td>\n",
       "      <td>66</td>\n",
       "      <td>29</td>\n",
       "      <td>0</td>\n",
       "      <td>26.6</td>\n",
       "      <td>0.351</td>\n",
       "      <td>31</td>\n",
       "      <td>1</td>\n",
       "      <td>85</td>\n",
       "      <td>66</td>\n",
       "      <td>29</td>\n",
       "      <td>0</td>\n",
       "      <td>26.6</td>\n",
       "      <td>0.351</td>\n",
       "      <td>31</td>\n",
       "      <td>0</td>\n",
       "    </tr>\n",
       "    <tr>\n",
       "      <th>2</th>\n",
       "      <td>8</td>\n",
       "      <td>183</td>\n",
       "      <td>64</td>\n",
       "      <td>0</td>\n",
       "      <td>0</td>\n",
       "      <td>23.3</td>\n",
       "      <td>0.672</td>\n",
       "      <td>32</td>\n",
       "      <td>8</td>\n",
       "      <td>183</td>\n",
       "      <td>64</td>\n",
       "      <td>0</td>\n",
       "      <td>0</td>\n",
       "      <td>23.3</td>\n",
       "      <td>0.672</td>\n",
       "      <td>32</td>\n",
       "      <td>1</td>\n",
       "    </tr>\n",
       "    <tr>\n",
       "      <th>3</th>\n",
       "      <td>1</td>\n",
       "      <td>89</td>\n",
       "      <td>66</td>\n",
       "      <td>23</td>\n",
       "      <td>94</td>\n",
       "      <td>28.1</td>\n",
       "      <td>0.167</td>\n",
       "      <td>21</td>\n",
       "      <td>1</td>\n",
       "      <td>89</td>\n",
       "      <td>66</td>\n",
       "      <td>23</td>\n",
       "      <td>94</td>\n",
       "      <td>28.1</td>\n",
       "      <td>0.167</td>\n",
       "      <td>21</td>\n",
       "      <td>0</td>\n",
       "    </tr>\n",
       "    <tr>\n",
       "      <th>4</th>\n",
       "      <td>0</td>\n",
       "      <td>137</td>\n",
       "      <td>40</td>\n",
       "      <td>35</td>\n",
       "      <td>168</td>\n",
       "      <td>43.1</td>\n",
       "      <td>2.288</td>\n",
       "      <td>33</td>\n",
       "      <td>0</td>\n",
       "      <td>137</td>\n",
       "      <td>40</td>\n",
       "      <td>35</td>\n",
       "      <td>168</td>\n",
       "      <td>43.1</td>\n",
       "      <td>2.288</td>\n",
       "      <td>33</td>\n",
       "      <td>1</td>\n",
       "    </tr>\n",
       "    <tr>\n",
       "      <th>...</th>\n",
       "      <td>...</td>\n",
       "      <td>...</td>\n",
       "      <td>...</td>\n",
       "      <td>...</td>\n",
       "      <td>...</td>\n",
       "      <td>...</td>\n",
       "      <td>...</td>\n",
       "      <td>...</td>\n",
       "      <td>...</td>\n",
       "      <td>...</td>\n",
       "      <td>...</td>\n",
       "      <td>...</td>\n",
       "      <td>...</td>\n",
       "      <td>...</td>\n",
       "      <td>...</td>\n",
       "      <td>...</td>\n",
       "      <td>...</td>\n",
       "    </tr>\n",
       "    <tr>\n",
       "      <th>763</th>\n",
       "      <td>10</td>\n",
       "      <td>101</td>\n",
       "      <td>76</td>\n",
       "      <td>48</td>\n",
       "      <td>180</td>\n",
       "      <td>32.9</td>\n",
       "      <td>0.171</td>\n",
       "      <td>63</td>\n",
       "      <td>10</td>\n",
       "      <td>101</td>\n",
       "      <td>76</td>\n",
       "      <td>48</td>\n",
       "      <td>180</td>\n",
       "      <td>32.9</td>\n",
       "      <td>0.171</td>\n",
       "      <td>63</td>\n",
       "      <td>0</td>\n",
       "    </tr>\n",
       "    <tr>\n",
       "      <th>764</th>\n",
       "      <td>2</td>\n",
       "      <td>122</td>\n",
       "      <td>70</td>\n",
       "      <td>27</td>\n",
       "      <td>0</td>\n",
       "      <td>36.8</td>\n",
       "      <td>0.340</td>\n",
       "      <td>27</td>\n",
       "      <td>2</td>\n",
       "      <td>122</td>\n",
       "      <td>70</td>\n",
       "      <td>27</td>\n",
       "      <td>0</td>\n",
       "      <td>36.8</td>\n",
       "      <td>0.340</td>\n",
       "      <td>27</td>\n",
       "      <td>0</td>\n",
       "    </tr>\n",
       "    <tr>\n",
       "      <th>765</th>\n",
       "      <td>5</td>\n",
       "      <td>121</td>\n",
       "      <td>72</td>\n",
       "      <td>23</td>\n",
       "      <td>112</td>\n",
       "      <td>26.2</td>\n",
       "      <td>0.245</td>\n",
       "      <td>30</td>\n",
       "      <td>5</td>\n",
       "      <td>121</td>\n",
       "      <td>72</td>\n",
       "      <td>23</td>\n",
       "      <td>112</td>\n",
       "      <td>26.2</td>\n",
       "      <td>0.245</td>\n",
       "      <td>30</td>\n",
       "      <td>0</td>\n",
       "    </tr>\n",
       "    <tr>\n",
       "      <th>766</th>\n",
       "      <td>1</td>\n",
       "      <td>126</td>\n",
       "      <td>60</td>\n",
       "      <td>0</td>\n",
       "      <td>0</td>\n",
       "      <td>30.1</td>\n",
       "      <td>0.349</td>\n",
       "      <td>47</td>\n",
       "      <td>1</td>\n",
       "      <td>126</td>\n",
       "      <td>60</td>\n",
       "      <td>0</td>\n",
       "      <td>0</td>\n",
       "      <td>30.1</td>\n",
       "      <td>0.349</td>\n",
       "      <td>47</td>\n",
       "      <td>1</td>\n",
       "    </tr>\n",
       "    <tr>\n",
       "      <th>767</th>\n",
       "      <td>1</td>\n",
       "      <td>93</td>\n",
       "      <td>70</td>\n",
       "      <td>31</td>\n",
       "      <td>0</td>\n",
       "      <td>30.4</td>\n",
       "      <td>0.315</td>\n",
       "      <td>23</td>\n",
       "      <td>1</td>\n",
       "      <td>93</td>\n",
       "      <td>70</td>\n",
       "      <td>31</td>\n",
       "      <td>0</td>\n",
       "      <td>30.4</td>\n",
       "      <td>0.315</td>\n",
       "      <td>23</td>\n",
       "      <td>0</td>\n",
       "    </tr>\n",
       "  </tbody>\n",
       "</table>\n",
       "<p>768 rows × 17 columns</p>\n",
       "</div>"
      ],
      "text/plain": [
       "     Pregnancies2  Glucose2  BloodPressure2  SkinThickness2  Insulin2  BMI2  \\\n",
       "0               6       148              72              35         0  33.6   \n",
       "1               1        85              66              29         0  26.6   \n",
       "2               8       183              64               0         0  23.3   \n",
       "3               1        89              66              23        94  28.1   \n",
       "4               0       137              40              35       168  43.1   \n",
       "..            ...       ...             ...             ...       ...   ...   \n",
       "763            10       101              76              48       180  32.9   \n",
       "764             2       122              70              27         0  36.8   \n",
       "765             5       121              72              23       112  26.2   \n",
       "766             1       126              60               0         0  30.1   \n",
       "767             1        93              70              31         0  30.4   \n",
       "\n",
       "     DiabetesPedigreeFunction2  Age2  Pregnancies  Glucose  BloodPressure  \\\n",
       "0                        0.627    50            6      148             72   \n",
       "1                        0.351    31            1       85             66   \n",
       "2                        0.672    32            8      183             64   \n",
       "3                        0.167    21            1       89             66   \n",
       "4                        2.288    33            0      137             40   \n",
       "..                         ...   ...          ...      ...            ...   \n",
       "763                      0.171    63           10      101             76   \n",
       "764                      0.340    27            2      122             70   \n",
       "765                      0.245    30            5      121             72   \n",
       "766                      0.349    47            1      126             60   \n",
       "767                      0.315    23            1       93             70   \n",
       "\n",
       "     SkinThickness  Insulin   BMI  DiabetesPedigreeFunction  Age  Outcome  \n",
       "0               35        0  33.6                     0.627   50        1  \n",
       "1               29        0  26.6                     0.351   31        0  \n",
       "2                0        0  23.3                     0.672   32        1  \n",
       "3               23       94  28.1                     0.167   21        0  \n",
       "4               35      168  43.1                     2.288   33        1  \n",
       "..             ...      ...   ...                       ...  ...      ...  \n",
       "763             48      180  32.9                     0.171   63        0  \n",
       "764             27        0  36.8                     0.340   27        0  \n",
       "765             23      112  26.2                     0.245   30        0  \n",
       "766              0        0  30.1                     0.349   47        1  \n",
       "767             31        0  30.4                     0.315   23        0  \n",
       "\n",
       "[768 rows x 17 columns]"
      ]
     },
     "execution_count": 19,
     "metadata": {},
     "output_type": "execute_result"
    }
   ],
   "source": [
    "data"
   ]
  },
  {
   "cell_type": "code",
   "execution_count": 20,
   "id": "d4216277",
   "metadata": {},
   "outputs": [
    {
     "data": {
      "text/plain": [
       "Pregnancies2                 0\n",
       "Glucose2                     0\n",
       "BloodPressure2               0\n",
       "SkinThickness2               0\n",
       "Insulin2                     0\n",
       "BMI2                         0\n",
       "DiabetesPedigreeFunction2    0\n",
       "Age2                         0\n",
       "Pregnancies                  0\n",
       "Glucose                      0\n",
       "BloodPressure                0\n",
       "SkinThickness                0\n",
       "Insulin                      0\n",
       "BMI                          0\n",
       "DiabetesPedigreeFunction     0\n",
       "Age                          0\n",
       "Outcome                      0\n",
       "dtype: int64"
      ]
     },
     "execution_count": 20,
     "metadata": {},
     "output_type": "execute_result"
    }
   ],
   "source": [
    "data.isnull().sum()"
   ]
  },
  {
   "cell_type": "code",
   "execution_count": 21,
   "id": "c0e9701c",
   "metadata": {},
   "outputs": [],
   "source": [
    "data.dropna(inplace = True)"
   ]
  },
  {
   "cell_type": "code",
   "execution_count": 22,
   "id": "a11f8c9c",
   "metadata": {},
   "outputs": [
    {
     "data": {
      "text/html": [
       "<div>\n",
       "<style scoped>\n",
       "    .dataframe tbody tr th:only-of-type {\n",
       "        vertical-align: middle;\n",
       "    }\n",
       "\n",
       "    .dataframe tbody tr th {\n",
       "        vertical-align: top;\n",
       "    }\n",
       "\n",
       "    .dataframe thead th {\n",
       "        text-align: right;\n",
       "    }\n",
       "</style>\n",
       "<table border=\"1\" class=\"dataframe\">\n",
       "  <thead>\n",
       "    <tr style=\"text-align: right;\">\n",
       "      <th></th>\n",
       "      <th>Pregnancies2</th>\n",
       "      <th>Glucose2</th>\n",
       "      <th>BloodPressure2</th>\n",
       "      <th>SkinThickness2</th>\n",
       "      <th>Insulin2</th>\n",
       "      <th>BMI2</th>\n",
       "      <th>DiabetesPedigreeFunction2</th>\n",
       "      <th>Age2</th>\n",
       "      <th>Pregnancies</th>\n",
       "      <th>Glucose</th>\n",
       "      <th>BloodPressure</th>\n",
       "      <th>SkinThickness</th>\n",
       "      <th>Insulin</th>\n",
       "      <th>BMI</th>\n",
       "      <th>DiabetesPedigreeFunction</th>\n",
       "      <th>Age</th>\n",
       "      <th>Outcome</th>\n",
       "    </tr>\n",
       "  </thead>\n",
       "  <tbody>\n",
       "    <tr>\n",
       "      <th>Pregnancies2</th>\n",
       "      <td>1.000000</td>\n",
       "      <td>0.129459</td>\n",
       "      <td>0.141282</td>\n",
       "      <td>-0.081672</td>\n",
       "      <td>-0.073535</td>\n",
       "      <td>0.017683</td>\n",
       "      <td>-0.033523</td>\n",
       "      <td>0.544341</td>\n",
       "      <td>1.000000</td>\n",
       "      <td>0.129459</td>\n",
       "      <td>0.141282</td>\n",
       "      <td>-0.081672</td>\n",
       "      <td>-0.073535</td>\n",
       "      <td>0.017683</td>\n",
       "      <td>-0.033523</td>\n",
       "      <td>0.544341</td>\n",
       "      <td>0.221898</td>\n",
       "    </tr>\n",
       "    <tr>\n",
       "      <th>Glucose2</th>\n",
       "      <td>0.129459</td>\n",
       "      <td>1.000000</td>\n",
       "      <td>0.152590</td>\n",
       "      <td>0.057328</td>\n",
       "      <td>0.331357</td>\n",
       "      <td>0.221071</td>\n",
       "      <td>0.137337</td>\n",
       "      <td>0.263514</td>\n",
       "      <td>0.129459</td>\n",
       "      <td>1.000000</td>\n",
       "      <td>0.152590</td>\n",
       "      <td>0.057328</td>\n",
       "      <td>0.331357</td>\n",
       "      <td>0.221071</td>\n",
       "      <td>0.137337</td>\n",
       "      <td>0.263514</td>\n",
       "      <td>0.466581</td>\n",
       "    </tr>\n",
       "    <tr>\n",
       "      <th>BloodPressure2</th>\n",
       "      <td>0.141282</td>\n",
       "      <td>0.152590</td>\n",
       "      <td>1.000000</td>\n",
       "      <td>0.207371</td>\n",
       "      <td>0.088933</td>\n",
       "      <td>0.281805</td>\n",
       "      <td>0.041265</td>\n",
       "      <td>0.239528</td>\n",
       "      <td>0.141282</td>\n",
       "      <td>0.152590</td>\n",
       "      <td>1.000000</td>\n",
       "      <td>0.207371</td>\n",
       "      <td>0.088933</td>\n",
       "      <td>0.281805</td>\n",
       "      <td>0.041265</td>\n",
       "      <td>0.239528</td>\n",
       "      <td>0.065068</td>\n",
       "    </tr>\n",
       "    <tr>\n",
       "      <th>SkinThickness2</th>\n",
       "      <td>-0.081672</td>\n",
       "      <td>0.057328</td>\n",
       "      <td>0.207371</td>\n",
       "      <td>1.000000</td>\n",
       "      <td>0.436783</td>\n",
       "      <td>0.392573</td>\n",
       "      <td>0.183928</td>\n",
       "      <td>-0.113970</td>\n",
       "      <td>-0.081672</td>\n",
       "      <td>0.057328</td>\n",
       "      <td>0.207371</td>\n",
       "      <td>1.000000</td>\n",
       "      <td>0.436783</td>\n",
       "      <td>0.392573</td>\n",
       "      <td>0.183928</td>\n",
       "      <td>-0.113970</td>\n",
       "      <td>0.074752</td>\n",
       "    </tr>\n",
       "    <tr>\n",
       "      <th>Insulin2</th>\n",
       "      <td>-0.073535</td>\n",
       "      <td>0.331357</td>\n",
       "      <td>0.088933</td>\n",
       "      <td>0.436783</td>\n",
       "      <td>1.000000</td>\n",
       "      <td>0.197859</td>\n",
       "      <td>0.185071</td>\n",
       "      <td>-0.042163</td>\n",
       "      <td>-0.073535</td>\n",
       "      <td>0.331357</td>\n",
       "      <td>0.088933</td>\n",
       "      <td>0.436783</td>\n",
       "      <td>1.000000</td>\n",
       "      <td>0.197859</td>\n",
       "      <td>0.185071</td>\n",
       "      <td>-0.042163</td>\n",
       "      <td>0.130548</td>\n",
       "    </tr>\n",
       "    <tr>\n",
       "      <th>BMI2</th>\n",
       "      <td>0.017683</td>\n",
       "      <td>0.221071</td>\n",
       "      <td>0.281805</td>\n",
       "      <td>0.392573</td>\n",
       "      <td>0.197859</td>\n",
       "      <td>1.000000</td>\n",
       "      <td>0.140647</td>\n",
       "      <td>0.036242</td>\n",
       "      <td>0.017683</td>\n",
       "      <td>0.221071</td>\n",
       "      <td>0.281805</td>\n",
       "      <td>0.392573</td>\n",
       "      <td>0.197859</td>\n",
       "      <td>1.000000</td>\n",
       "      <td>0.140647</td>\n",
       "      <td>0.036242</td>\n",
       "      <td>0.292695</td>\n",
       "    </tr>\n",
       "    <tr>\n",
       "      <th>DiabetesPedigreeFunction2</th>\n",
       "      <td>-0.033523</td>\n",
       "      <td>0.137337</td>\n",
       "      <td>0.041265</td>\n",
       "      <td>0.183928</td>\n",
       "      <td>0.185071</td>\n",
       "      <td>0.140647</td>\n",
       "      <td>1.000000</td>\n",
       "      <td>0.033561</td>\n",
       "      <td>-0.033523</td>\n",
       "      <td>0.137337</td>\n",
       "      <td>0.041265</td>\n",
       "      <td>0.183928</td>\n",
       "      <td>0.185071</td>\n",
       "      <td>0.140647</td>\n",
       "      <td>1.000000</td>\n",
       "      <td>0.033561</td>\n",
       "      <td>0.173844</td>\n",
       "    </tr>\n",
       "    <tr>\n",
       "      <th>Age2</th>\n",
       "      <td>0.544341</td>\n",
       "      <td>0.263514</td>\n",
       "      <td>0.239528</td>\n",
       "      <td>-0.113970</td>\n",
       "      <td>-0.042163</td>\n",
       "      <td>0.036242</td>\n",
       "      <td>0.033561</td>\n",
       "      <td>1.000000</td>\n",
       "      <td>0.544341</td>\n",
       "      <td>0.263514</td>\n",
       "      <td>0.239528</td>\n",
       "      <td>-0.113970</td>\n",
       "      <td>-0.042163</td>\n",
       "      <td>0.036242</td>\n",
       "      <td>0.033561</td>\n",
       "      <td>1.000000</td>\n",
       "      <td>0.238356</td>\n",
       "    </tr>\n",
       "    <tr>\n",
       "      <th>Pregnancies</th>\n",
       "      <td>1.000000</td>\n",
       "      <td>0.129459</td>\n",
       "      <td>0.141282</td>\n",
       "      <td>-0.081672</td>\n",
       "      <td>-0.073535</td>\n",
       "      <td>0.017683</td>\n",
       "      <td>-0.033523</td>\n",
       "      <td>0.544341</td>\n",
       "      <td>1.000000</td>\n",
       "      <td>0.129459</td>\n",
       "      <td>0.141282</td>\n",
       "      <td>-0.081672</td>\n",
       "      <td>-0.073535</td>\n",
       "      <td>0.017683</td>\n",
       "      <td>-0.033523</td>\n",
       "      <td>0.544341</td>\n",
       "      <td>0.221898</td>\n",
       "    </tr>\n",
       "    <tr>\n",
       "      <th>Glucose</th>\n",
       "      <td>0.129459</td>\n",
       "      <td>1.000000</td>\n",
       "      <td>0.152590</td>\n",
       "      <td>0.057328</td>\n",
       "      <td>0.331357</td>\n",
       "      <td>0.221071</td>\n",
       "      <td>0.137337</td>\n",
       "      <td>0.263514</td>\n",
       "      <td>0.129459</td>\n",
       "      <td>1.000000</td>\n",
       "      <td>0.152590</td>\n",
       "      <td>0.057328</td>\n",
       "      <td>0.331357</td>\n",
       "      <td>0.221071</td>\n",
       "      <td>0.137337</td>\n",
       "      <td>0.263514</td>\n",
       "      <td>0.466581</td>\n",
       "    </tr>\n",
       "    <tr>\n",
       "      <th>BloodPressure</th>\n",
       "      <td>0.141282</td>\n",
       "      <td>0.152590</td>\n",
       "      <td>1.000000</td>\n",
       "      <td>0.207371</td>\n",
       "      <td>0.088933</td>\n",
       "      <td>0.281805</td>\n",
       "      <td>0.041265</td>\n",
       "      <td>0.239528</td>\n",
       "      <td>0.141282</td>\n",
       "      <td>0.152590</td>\n",
       "      <td>1.000000</td>\n",
       "      <td>0.207371</td>\n",
       "      <td>0.088933</td>\n",
       "      <td>0.281805</td>\n",
       "      <td>0.041265</td>\n",
       "      <td>0.239528</td>\n",
       "      <td>0.065068</td>\n",
       "    </tr>\n",
       "    <tr>\n",
       "      <th>SkinThickness</th>\n",
       "      <td>-0.081672</td>\n",
       "      <td>0.057328</td>\n",
       "      <td>0.207371</td>\n",
       "      <td>1.000000</td>\n",
       "      <td>0.436783</td>\n",
       "      <td>0.392573</td>\n",
       "      <td>0.183928</td>\n",
       "      <td>-0.113970</td>\n",
       "      <td>-0.081672</td>\n",
       "      <td>0.057328</td>\n",
       "      <td>0.207371</td>\n",
       "      <td>1.000000</td>\n",
       "      <td>0.436783</td>\n",
       "      <td>0.392573</td>\n",
       "      <td>0.183928</td>\n",
       "      <td>-0.113970</td>\n",
       "      <td>0.074752</td>\n",
       "    </tr>\n",
       "    <tr>\n",
       "      <th>Insulin</th>\n",
       "      <td>-0.073535</td>\n",
       "      <td>0.331357</td>\n",
       "      <td>0.088933</td>\n",
       "      <td>0.436783</td>\n",
       "      <td>1.000000</td>\n",
       "      <td>0.197859</td>\n",
       "      <td>0.185071</td>\n",
       "      <td>-0.042163</td>\n",
       "      <td>-0.073535</td>\n",
       "      <td>0.331357</td>\n",
       "      <td>0.088933</td>\n",
       "      <td>0.436783</td>\n",
       "      <td>1.000000</td>\n",
       "      <td>0.197859</td>\n",
       "      <td>0.185071</td>\n",
       "      <td>-0.042163</td>\n",
       "      <td>0.130548</td>\n",
       "    </tr>\n",
       "    <tr>\n",
       "      <th>BMI</th>\n",
       "      <td>0.017683</td>\n",
       "      <td>0.221071</td>\n",
       "      <td>0.281805</td>\n",
       "      <td>0.392573</td>\n",
       "      <td>0.197859</td>\n",
       "      <td>1.000000</td>\n",
       "      <td>0.140647</td>\n",
       "      <td>0.036242</td>\n",
       "      <td>0.017683</td>\n",
       "      <td>0.221071</td>\n",
       "      <td>0.281805</td>\n",
       "      <td>0.392573</td>\n",
       "      <td>0.197859</td>\n",
       "      <td>1.000000</td>\n",
       "      <td>0.140647</td>\n",
       "      <td>0.036242</td>\n",
       "      <td>0.292695</td>\n",
       "    </tr>\n",
       "    <tr>\n",
       "      <th>DiabetesPedigreeFunction</th>\n",
       "      <td>-0.033523</td>\n",
       "      <td>0.137337</td>\n",
       "      <td>0.041265</td>\n",
       "      <td>0.183928</td>\n",
       "      <td>0.185071</td>\n",
       "      <td>0.140647</td>\n",
       "      <td>1.000000</td>\n",
       "      <td>0.033561</td>\n",
       "      <td>-0.033523</td>\n",
       "      <td>0.137337</td>\n",
       "      <td>0.041265</td>\n",
       "      <td>0.183928</td>\n",
       "      <td>0.185071</td>\n",
       "      <td>0.140647</td>\n",
       "      <td>1.000000</td>\n",
       "      <td>0.033561</td>\n",
       "      <td>0.173844</td>\n",
       "    </tr>\n",
       "    <tr>\n",
       "      <th>Age</th>\n",
       "      <td>0.544341</td>\n",
       "      <td>0.263514</td>\n",
       "      <td>0.239528</td>\n",
       "      <td>-0.113970</td>\n",
       "      <td>-0.042163</td>\n",
       "      <td>0.036242</td>\n",
       "      <td>0.033561</td>\n",
       "      <td>1.000000</td>\n",
       "      <td>0.544341</td>\n",
       "      <td>0.263514</td>\n",
       "      <td>0.239528</td>\n",
       "      <td>-0.113970</td>\n",
       "      <td>-0.042163</td>\n",
       "      <td>0.036242</td>\n",
       "      <td>0.033561</td>\n",
       "      <td>1.000000</td>\n",
       "      <td>0.238356</td>\n",
       "    </tr>\n",
       "    <tr>\n",
       "      <th>Outcome</th>\n",
       "      <td>0.221898</td>\n",
       "      <td>0.466581</td>\n",
       "      <td>0.065068</td>\n",
       "      <td>0.074752</td>\n",
       "      <td>0.130548</td>\n",
       "      <td>0.292695</td>\n",
       "      <td>0.173844</td>\n",
       "      <td>0.238356</td>\n",
       "      <td>0.221898</td>\n",
       "      <td>0.466581</td>\n",
       "      <td>0.065068</td>\n",
       "      <td>0.074752</td>\n",
       "      <td>0.130548</td>\n",
       "      <td>0.292695</td>\n",
       "      <td>0.173844</td>\n",
       "      <td>0.238356</td>\n",
       "      <td>1.000000</td>\n",
       "    </tr>\n",
       "  </tbody>\n",
       "</table>\n",
       "</div>"
      ],
      "text/plain": [
       "                           Pregnancies2  Glucose2  BloodPressure2  \\\n",
       "Pregnancies2                   1.000000  0.129459        0.141282   \n",
       "Glucose2                       0.129459  1.000000        0.152590   \n",
       "BloodPressure2                 0.141282  0.152590        1.000000   \n",
       "SkinThickness2                -0.081672  0.057328        0.207371   \n",
       "Insulin2                      -0.073535  0.331357        0.088933   \n",
       "BMI2                           0.017683  0.221071        0.281805   \n",
       "DiabetesPedigreeFunction2     -0.033523  0.137337        0.041265   \n",
       "Age2                           0.544341  0.263514        0.239528   \n",
       "Pregnancies                    1.000000  0.129459        0.141282   \n",
       "Glucose                        0.129459  1.000000        0.152590   \n",
       "BloodPressure                  0.141282  0.152590        1.000000   \n",
       "SkinThickness                 -0.081672  0.057328        0.207371   \n",
       "Insulin                       -0.073535  0.331357        0.088933   \n",
       "BMI                            0.017683  0.221071        0.281805   \n",
       "DiabetesPedigreeFunction      -0.033523  0.137337        0.041265   \n",
       "Age                            0.544341  0.263514        0.239528   \n",
       "Outcome                        0.221898  0.466581        0.065068   \n",
       "\n",
       "                           SkinThickness2  Insulin2      BMI2  \\\n",
       "Pregnancies2                    -0.081672 -0.073535  0.017683   \n",
       "Glucose2                         0.057328  0.331357  0.221071   \n",
       "BloodPressure2                   0.207371  0.088933  0.281805   \n",
       "SkinThickness2                   1.000000  0.436783  0.392573   \n",
       "Insulin2                         0.436783  1.000000  0.197859   \n",
       "BMI2                             0.392573  0.197859  1.000000   \n",
       "DiabetesPedigreeFunction2        0.183928  0.185071  0.140647   \n",
       "Age2                            -0.113970 -0.042163  0.036242   \n",
       "Pregnancies                     -0.081672 -0.073535  0.017683   \n",
       "Glucose                          0.057328  0.331357  0.221071   \n",
       "BloodPressure                    0.207371  0.088933  0.281805   \n",
       "SkinThickness                    1.000000  0.436783  0.392573   \n",
       "Insulin                          0.436783  1.000000  0.197859   \n",
       "BMI                              0.392573  0.197859  1.000000   \n",
       "DiabetesPedigreeFunction         0.183928  0.185071  0.140647   \n",
       "Age                             -0.113970 -0.042163  0.036242   \n",
       "Outcome                          0.074752  0.130548  0.292695   \n",
       "\n",
       "                           DiabetesPedigreeFunction2      Age2  Pregnancies  \\\n",
       "Pregnancies2                               -0.033523  0.544341     1.000000   \n",
       "Glucose2                                    0.137337  0.263514     0.129459   \n",
       "BloodPressure2                              0.041265  0.239528     0.141282   \n",
       "SkinThickness2                              0.183928 -0.113970    -0.081672   \n",
       "Insulin2                                    0.185071 -0.042163    -0.073535   \n",
       "BMI2                                        0.140647  0.036242     0.017683   \n",
       "DiabetesPedigreeFunction2                   1.000000  0.033561    -0.033523   \n",
       "Age2                                        0.033561  1.000000     0.544341   \n",
       "Pregnancies                                -0.033523  0.544341     1.000000   \n",
       "Glucose                                     0.137337  0.263514     0.129459   \n",
       "BloodPressure                               0.041265  0.239528     0.141282   \n",
       "SkinThickness                               0.183928 -0.113970    -0.081672   \n",
       "Insulin                                     0.185071 -0.042163    -0.073535   \n",
       "BMI                                         0.140647  0.036242     0.017683   \n",
       "DiabetesPedigreeFunction                    1.000000  0.033561    -0.033523   \n",
       "Age                                         0.033561  1.000000     0.544341   \n",
       "Outcome                                     0.173844  0.238356     0.221898   \n",
       "\n",
       "                            Glucose  BloodPressure  SkinThickness   Insulin  \\\n",
       "Pregnancies2               0.129459       0.141282      -0.081672 -0.073535   \n",
       "Glucose2                   1.000000       0.152590       0.057328  0.331357   \n",
       "BloodPressure2             0.152590       1.000000       0.207371  0.088933   \n",
       "SkinThickness2             0.057328       0.207371       1.000000  0.436783   \n",
       "Insulin2                   0.331357       0.088933       0.436783  1.000000   \n",
       "BMI2                       0.221071       0.281805       0.392573  0.197859   \n",
       "DiabetesPedigreeFunction2  0.137337       0.041265       0.183928  0.185071   \n",
       "Age2                       0.263514       0.239528      -0.113970 -0.042163   \n",
       "Pregnancies                0.129459       0.141282      -0.081672 -0.073535   \n",
       "Glucose                    1.000000       0.152590       0.057328  0.331357   \n",
       "BloodPressure              0.152590       1.000000       0.207371  0.088933   \n",
       "SkinThickness              0.057328       0.207371       1.000000  0.436783   \n",
       "Insulin                    0.331357       0.088933       0.436783  1.000000   \n",
       "BMI                        0.221071       0.281805       0.392573  0.197859   \n",
       "DiabetesPedigreeFunction   0.137337       0.041265       0.183928  0.185071   \n",
       "Age                        0.263514       0.239528      -0.113970 -0.042163   \n",
       "Outcome                    0.466581       0.065068       0.074752  0.130548   \n",
       "\n",
       "                                BMI  DiabetesPedigreeFunction       Age  \\\n",
       "Pregnancies2               0.017683                 -0.033523  0.544341   \n",
       "Glucose2                   0.221071                  0.137337  0.263514   \n",
       "BloodPressure2             0.281805                  0.041265  0.239528   \n",
       "SkinThickness2             0.392573                  0.183928 -0.113970   \n",
       "Insulin2                   0.197859                  0.185071 -0.042163   \n",
       "BMI2                       1.000000                  0.140647  0.036242   \n",
       "DiabetesPedigreeFunction2  0.140647                  1.000000  0.033561   \n",
       "Age2                       0.036242                  0.033561  1.000000   \n",
       "Pregnancies                0.017683                 -0.033523  0.544341   \n",
       "Glucose                    0.221071                  0.137337  0.263514   \n",
       "BloodPressure              0.281805                  0.041265  0.239528   \n",
       "SkinThickness              0.392573                  0.183928 -0.113970   \n",
       "Insulin                    0.197859                  0.185071 -0.042163   \n",
       "BMI                        1.000000                  0.140647  0.036242   \n",
       "DiabetesPedigreeFunction   0.140647                  1.000000  0.033561   \n",
       "Age                        0.036242                  0.033561  1.000000   \n",
       "Outcome                    0.292695                  0.173844  0.238356   \n",
       "\n",
       "                            Outcome  \n",
       "Pregnancies2               0.221898  \n",
       "Glucose2                   0.466581  \n",
       "BloodPressure2             0.065068  \n",
       "SkinThickness2             0.074752  \n",
       "Insulin2                   0.130548  \n",
       "BMI2                       0.292695  \n",
       "DiabetesPedigreeFunction2  0.173844  \n",
       "Age2                       0.238356  \n",
       "Pregnancies                0.221898  \n",
       "Glucose                    0.466581  \n",
       "BloodPressure              0.065068  \n",
       "SkinThickness              0.074752  \n",
       "Insulin                    0.130548  \n",
       "BMI                        0.292695  \n",
       "DiabetesPedigreeFunction   0.173844  \n",
       "Age                        0.238356  \n",
       "Outcome                    1.000000  "
      ]
     },
     "execution_count": 22,
     "metadata": {},
     "output_type": "execute_result"
    }
   ],
   "source": [
    "data.corr()"
   ]
  },
  {
   "cell_type": "code",
   "execution_count": 23,
   "id": "c90e1215",
   "metadata": {},
   "outputs": [
    {
     "data": {
      "text/html": [
       "<div>\n",
       "<style scoped>\n",
       "    .dataframe tbody tr th:only-of-type {\n",
       "        vertical-align: middle;\n",
       "    }\n",
       "\n",
       "    .dataframe tbody tr th {\n",
       "        vertical-align: top;\n",
       "    }\n",
       "\n",
       "    .dataframe thead th {\n",
       "        text-align: right;\n",
       "    }\n",
       "</style>\n",
       "<table border=\"1\" class=\"dataframe\">\n",
       "  <thead>\n",
       "    <tr style=\"text-align: right;\">\n",
       "      <th></th>\n",
       "      <th>Pregnancies2</th>\n",
       "      <th>Glucose2</th>\n",
       "      <th>BloodPressure2</th>\n",
       "      <th>SkinThickness2</th>\n",
       "      <th>Insulin2</th>\n",
       "      <th>BMI2</th>\n",
       "      <th>DiabetesPedigreeFunction2</th>\n",
       "      <th>Age2</th>\n",
       "      <th>Pregnancies</th>\n",
       "      <th>Glucose</th>\n",
       "      <th>BloodPressure</th>\n",
       "      <th>SkinThickness</th>\n",
       "      <th>Insulin</th>\n",
       "      <th>BMI</th>\n",
       "      <th>DiabetesPedigreeFunction</th>\n",
       "      <th>Age</th>\n",
       "      <th>Outcome</th>\n",
       "    </tr>\n",
       "  </thead>\n",
       "  <tbody>\n",
       "    <tr>\n",
       "      <th>0</th>\n",
       "      <td>6</td>\n",
       "      <td>148</td>\n",
       "      <td>72</td>\n",
       "      <td>35</td>\n",
       "      <td>0</td>\n",
       "      <td>33.6</td>\n",
       "      <td>0.627</td>\n",
       "      <td>50</td>\n",
       "      <td>6</td>\n",
       "      <td>148</td>\n",
       "      <td>72</td>\n",
       "      <td>35</td>\n",
       "      <td>0</td>\n",
       "      <td>33.6</td>\n",
       "      <td>0.627</td>\n",
       "      <td>50</td>\n",
       "      <td>1</td>\n",
       "    </tr>\n",
       "    <tr>\n",
       "      <th>1</th>\n",
       "      <td>1</td>\n",
       "      <td>85</td>\n",
       "      <td>66</td>\n",
       "      <td>29</td>\n",
       "      <td>0</td>\n",
       "      <td>26.6</td>\n",
       "      <td>0.351</td>\n",
       "      <td>31</td>\n",
       "      <td>1</td>\n",
       "      <td>85</td>\n",
       "      <td>66</td>\n",
       "      <td>29</td>\n",
       "      <td>0</td>\n",
       "      <td>26.6</td>\n",
       "      <td>0.351</td>\n",
       "      <td>31</td>\n",
       "      <td>0</td>\n",
       "    </tr>\n",
       "    <tr>\n",
       "      <th>2</th>\n",
       "      <td>8</td>\n",
       "      <td>183</td>\n",
       "      <td>64</td>\n",
       "      <td>0</td>\n",
       "      <td>0</td>\n",
       "      <td>23.3</td>\n",
       "      <td>0.672</td>\n",
       "      <td>32</td>\n",
       "      <td>8</td>\n",
       "      <td>183</td>\n",
       "      <td>64</td>\n",
       "      <td>0</td>\n",
       "      <td>0</td>\n",
       "      <td>23.3</td>\n",
       "      <td>0.672</td>\n",
       "      <td>32</td>\n",
       "      <td>1</td>\n",
       "    </tr>\n",
       "    <tr>\n",
       "      <th>3</th>\n",
       "      <td>1</td>\n",
       "      <td>89</td>\n",
       "      <td>66</td>\n",
       "      <td>23</td>\n",
       "      <td>94</td>\n",
       "      <td>28.1</td>\n",
       "      <td>0.167</td>\n",
       "      <td>21</td>\n",
       "      <td>1</td>\n",
       "      <td>89</td>\n",
       "      <td>66</td>\n",
       "      <td>23</td>\n",
       "      <td>94</td>\n",
       "      <td>28.1</td>\n",
       "      <td>0.167</td>\n",
       "      <td>21</td>\n",
       "      <td>0</td>\n",
       "    </tr>\n",
       "    <tr>\n",
       "      <th>4</th>\n",
       "      <td>0</td>\n",
       "      <td>137</td>\n",
       "      <td>40</td>\n",
       "      <td>35</td>\n",
       "      <td>168</td>\n",
       "      <td>43.1</td>\n",
       "      <td>2.288</td>\n",
       "      <td>33</td>\n",
       "      <td>0</td>\n",
       "      <td>137</td>\n",
       "      <td>40</td>\n",
       "      <td>35</td>\n",
       "      <td>168</td>\n",
       "      <td>43.1</td>\n",
       "      <td>2.288</td>\n",
       "      <td>33</td>\n",
       "      <td>1</td>\n",
       "    </tr>\n",
       "    <tr>\n",
       "      <th>...</th>\n",
       "      <td>...</td>\n",
       "      <td>...</td>\n",
       "      <td>...</td>\n",
       "      <td>...</td>\n",
       "      <td>...</td>\n",
       "      <td>...</td>\n",
       "      <td>...</td>\n",
       "      <td>...</td>\n",
       "      <td>...</td>\n",
       "      <td>...</td>\n",
       "      <td>...</td>\n",
       "      <td>...</td>\n",
       "      <td>...</td>\n",
       "      <td>...</td>\n",
       "      <td>...</td>\n",
       "      <td>...</td>\n",
       "      <td>...</td>\n",
       "    </tr>\n",
       "    <tr>\n",
       "      <th>763</th>\n",
       "      <td>10</td>\n",
       "      <td>101</td>\n",
       "      <td>76</td>\n",
       "      <td>48</td>\n",
       "      <td>180</td>\n",
       "      <td>32.9</td>\n",
       "      <td>0.171</td>\n",
       "      <td>63</td>\n",
       "      <td>10</td>\n",
       "      <td>101</td>\n",
       "      <td>76</td>\n",
       "      <td>48</td>\n",
       "      <td>180</td>\n",
       "      <td>32.9</td>\n",
       "      <td>0.171</td>\n",
       "      <td>63</td>\n",
       "      <td>0</td>\n",
       "    </tr>\n",
       "    <tr>\n",
       "      <th>764</th>\n",
       "      <td>2</td>\n",
       "      <td>122</td>\n",
       "      <td>70</td>\n",
       "      <td>27</td>\n",
       "      <td>0</td>\n",
       "      <td>36.8</td>\n",
       "      <td>0.340</td>\n",
       "      <td>27</td>\n",
       "      <td>2</td>\n",
       "      <td>122</td>\n",
       "      <td>70</td>\n",
       "      <td>27</td>\n",
       "      <td>0</td>\n",
       "      <td>36.8</td>\n",
       "      <td>0.340</td>\n",
       "      <td>27</td>\n",
       "      <td>0</td>\n",
       "    </tr>\n",
       "    <tr>\n",
       "      <th>765</th>\n",
       "      <td>5</td>\n",
       "      <td>121</td>\n",
       "      <td>72</td>\n",
       "      <td>23</td>\n",
       "      <td>112</td>\n",
       "      <td>26.2</td>\n",
       "      <td>0.245</td>\n",
       "      <td>30</td>\n",
       "      <td>5</td>\n",
       "      <td>121</td>\n",
       "      <td>72</td>\n",
       "      <td>23</td>\n",
       "      <td>112</td>\n",
       "      <td>26.2</td>\n",
       "      <td>0.245</td>\n",
       "      <td>30</td>\n",
       "      <td>0</td>\n",
       "    </tr>\n",
       "    <tr>\n",
       "      <th>766</th>\n",
       "      <td>1</td>\n",
       "      <td>126</td>\n",
       "      <td>60</td>\n",
       "      <td>0</td>\n",
       "      <td>0</td>\n",
       "      <td>30.1</td>\n",
       "      <td>0.349</td>\n",
       "      <td>47</td>\n",
       "      <td>1</td>\n",
       "      <td>126</td>\n",
       "      <td>60</td>\n",
       "      <td>0</td>\n",
       "      <td>0</td>\n",
       "      <td>30.1</td>\n",
       "      <td>0.349</td>\n",
       "      <td>47</td>\n",
       "      <td>1</td>\n",
       "    </tr>\n",
       "    <tr>\n",
       "      <th>767</th>\n",
       "      <td>1</td>\n",
       "      <td>93</td>\n",
       "      <td>70</td>\n",
       "      <td>31</td>\n",
       "      <td>0</td>\n",
       "      <td>30.4</td>\n",
       "      <td>0.315</td>\n",
       "      <td>23</td>\n",
       "      <td>1</td>\n",
       "      <td>93</td>\n",
       "      <td>70</td>\n",
       "      <td>31</td>\n",
       "      <td>0</td>\n",
       "      <td>30.4</td>\n",
       "      <td>0.315</td>\n",
       "      <td>23</td>\n",
       "      <td>0</td>\n",
       "    </tr>\n",
       "  </tbody>\n",
       "</table>\n",
       "<p>768 rows × 17 columns</p>\n",
       "</div>"
      ],
      "text/plain": [
       "     Pregnancies2  Glucose2  BloodPressure2  SkinThickness2  Insulin2  BMI2  \\\n",
       "0               6       148              72              35         0  33.6   \n",
       "1               1        85              66              29         0  26.6   \n",
       "2               8       183              64               0         0  23.3   \n",
       "3               1        89              66              23        94  28.1   \n",
       "4               0       137              40              35       168  43.1   \n",
       "..            ...       ...             ...             ...       ...   ...   \n",
       "763            10       101              76              48       180  32.9   \n",
       "764             2       122              70              27         0  36.8   \n",
       "765             5       121              72              23       112  26.2   \n",
       "766             1       126              60               0         0  30.1   \n",
       "767             1        93              70              31         0  30.4   \n",
       "\n",
       "     DiabetesPedigreeFunction2  Age2  Pregnancies  Glucose  BloodPressure  \\\n",
       "0                        0.627    50            6      148             72   \n",
       "1                        0.351    31            1       85             66   \n",
       "2                        0.672    32            8      183             64   \n",
       "3                        0.167    21            1       89             66   \n",
       "4                        2.288    33            0      137             40   \n",
       "..                         ...   ...          ...      ...            ...   \n",
       "763                      0.171    63           10      101             76   \n",
       "764                      0.340    27            2      122             70   \n",
       "765                      0.245    30            5      121             72   \n",
       "766                      0.349    47            1      126             60   \n",
       "767                      0.315    23            1       93             70   \n",
       "\n",
       "     SkinThickness  Insulin   BMI  DiabetesPedigreeFunction  Age  Outcome  \n",
       "0               35        0  33.6                     0.627   50        1  \n",
       "1               29        0  26.6                     0.351   31        0  \n",
       "2                0        0  23.3                     0.672   32        1  \n",
       "3               23       94  28.1                     0.167   21        0  \n",
       "4               35      168  43.1                     2.288   33        1  \n",
       "..             ...      ...   ...                       ...  ...      ...  \n",
       "763             48      180  32.9                     0.171   63        0  \n",
       "764             27        0  36.8                     0.340   27        0  \n",
       "765             23      112  26.2                     0.245   30        0  \n",
       "766              0        0  30.1                     0.349   47        1  \n",
       "767             31        0  30.4                     0.315   23        0  \n",
       "\n",
       "[768 rows x 17 columns]"
      ]
     },
     "execution_count": 23,
     "metadata": {},
     "output_type": "execute_result"
    }
   ],
   "source": [
    "data"
   ]
  },
  {
   "cell_type": "code",
   "execution_count": 24,
   "id": "9711a37a",
   "metadata": {},
   "outputs": [
    {
     "name": "stdout",
     "output_type": "stream",
     "text": [
      "[[ 0.63994726  0.84832379  0.14964075 ...  0.46849198  1.4259954\n",
      "   1.36589591]\n",
      " [-0.84488505 -1.12339636 -0.16054575 ... -0.36506078 -0.19067191\n",
      "  -0.73212021]\n",
      " [ 1.23388019  1.94372388 -0.26394125 ...  0.60439732 -0.10558415\n",
      "   1.36589591]\n",
      " ...\n",
      " [ 0.3429808   0.00330087  0.14964075 ... -0.68519336 -0.27575966\n",
      "  -0.73212021]\n",
      " [-0.84488505  0.1597866  -0.47073225 ... -0.37110101  1.17073215\n",
      "   1.36589591]\n",
      " [-0.84488505 -0.8730192   0.04624525 ... -0.47378505 -0.87137393\n",
      "  -0.73212021]]\n"
     ]
    }
   ],
   "source": [
    "from sklearn.preprocessing import StandardScaler\n",
    "scaler = StandardScaler()\n",
    "scaled_data = scaler.fit_transform(data)\n",
    "print(scaled_data)"
   ]
  },
  {
   "cell_type": "code",
   "execution_count": 25,
   "id": "c9c2aacc",
   "metadata": {},
   "outputs": [
    {
     "data": {
      "text/html": [
       "<style>#sk-container-id-2 {color: black;background-color: white;}#sk-container-id-2 pre{padding: 0;}#sk-container-id-2 div.sk-toggleable {background-color: white;}#sk-container-id-2 label.sk-toggleable__label {cursor: pointer;display: block;width: 100%;margin-bottom: 0;padding: 0.3em;box-sizing: border-box;text-align: center;}#sk-container-id-2 label.sk-toggleable__label-arrow:before {content: \"▸\";float: left;margin-right: 0.25em;color: #696969;}#sk-container-id-2 label.sk-toggleable__label-arrow:hover:before {color: black;}#sk-container-id-2 div.sk-estimator:hover label.sk-toggleable__label-arrow:before {color: black;}#sk-container-id-2 div.sk-toggleable__content {max-height: 0;max-width: 0;overflow: hidden;text-align: left;background-color: #f0f8ff;}#sk-container-id-2 div.sk-toggleable__content pre {margin: 0.2em;color: black;border-radius: 0.25em;background-color: #f0f8ff;}#sk-container-id-2 input.sk-toggleable__control:checked~div.sk-toggleable__content {max-height: 200px;max-width: 100%;overflow: auto;}#sk-container-id-2 input.sk-toggleable__control:checked~label.sk-toggleable__label-arrow:before {content: \"▾\";}#sk-container-id-2 div.sk-estimator input.sk-toggleable__control:checked~label.sk-toggleable__label {background-color: #d4ebff;}#sk-container-id-2 div.sk-label input.sk-toggleable__control:checked~label.sk-toggleable__label {background-color: #d4ebff;}#sk-container-id-2 input.sk-hidden--visually {border: 0;clip: rect(1px 1px 1px 1px);clip: rect(1px, 1px, 1px, 1px);height: 1px;margin: -1px;overflow: hidden;padding: 0;position: absolute;width: 1px;}#sk-container-id-2 div.sk-estimator {font-family: monospace;background-color: #f0f8ff;border: 1px dotted black;border-radius: 0.25em;box-sizing: border-box;margin-bottom: 0.5em;}#sk-container-id-2 div.sk-estimator:hover {background-color: #d4ebff;}#sk-container-id-2 div.sk-parallel-item::after {content: \"\";width: 100%;border-bottom: 1px solid gray;flex-grow: 1;}#sk-container-id-2 div.sk-label:hover label.sk-toggleable__label {background-color: #d4ebff;}#sk-container-id-2 div.sk-serial::before {content: \"\";position: absolute;border-left: 1px solid gray;box-sizing: border-box;top: 0;bottom: 0;left: 50%;z-index: 0;}#sk-container-id-2 div.sk-serial {display: flex;flex-direction: column;align-items: center;background-color: white;padding-right: 0.2em;padding-left: 0.2em;position: relative;}#sk-container-id-2 div.sk-item {position: relative;z-index: 1;}#sk-container-id-2 div.sk-parallel {display: flex;align-items: stretch;justify-content: center;background-color: white;position: relative;}#sk-container-id-2 div.sk-item::before, #sk-container-id-2 div.sk-parallel-item::before {content: \"\";position: absolute;border-left: 1px solid gray;box-sizing: border-box;top: 0;bottom: 0;left: 50%;z-index: -1;}#sk-container-id-2 div.sk-parallel-item {display: flex;flex-direction: column;z-index: 1;position: relative;background-color: white;}#sk-container-id-2 div.sk-parallel-item:first-child::after {align-self: flex-end;width: 50%;}#sk-container-id-2 div.sk-parallel-item:last-child::after {align-self: flex-start;width: 50%;}#sk-container-id-2 div.sk-parallel-item:only-child::after {width: 0;}#sk-container-id-2 div.sk-dashed-wrapped {border: 1px dashed gray;margin: 0 0.4em 0.5em 0.4em;box-sizing: border-box;padding-bottom: 0.4em;background-color: white;}#sk-container-id-2 div.sk-label label {font-family: monospace;font-weight: bold;display: inline-block;line-height: 1.2em;}#sk-container-id-2 div.sk-label-container {text-align: center;}#sk-container-id-2 div.sk-container {/* jupyter's `normalize.less` sets `[hidden] { display: none; }` but bootstrap.min.css set `[hidden] { display: none !important; }` so we also need the `!important` here to be able to override the default hidden behavior on the sphinx rendered scikit-learn.org. See: https://github.com/scikit-learn/scikit-learn/issues/21755 */display: inline-block !important;position: relative;}#sk-container-id-2 div.sk-text-repr-fallback {display: none;}</style><div id=\"sk-container-id-2\" class=\"sk-top-container\"><div class=\"sk-text-repr-fallback\"><pre>PCA(n_components=8)</pre><b>In a Jupyter environment, please rerun this cell to show the HTML representation or trust the notebook. <br />On GitHub, the HTML representation is unable to render, please try loading this page with nbviewer.org.</b></div><div class=\"sk-container\" hidden><div class=\"sk-item\"><div class=\"sk-estimator sk-toggleable\"><input class=\"sk-toggleable__control sk-hidden--visually\" id=\"sk-estimator-id-2\" type=\"checkbox\" checked><label for=\"sk-estimator-id-2\" class=\"sk-toggleable__label sk-toggleable__label-arrow\">PCA</label><div class=\"sk-toggleable__content\"><pre>PCA(n_components=8)</pre></div></div></div></div></div>"
      ],
      "text/plain": [
       "PCA(n_components=8)"
      ]
     },
     "execution_count": 25,
     "metadata": {},
     "output_type": "execute_result"
    }
   ],
   "source": [
    "from sklearn.decomposition import PCA\n",
    "pca = PCA(n_components =8)\n",
    "pca.fit(scaled_data)\n"
   ]
  },
  {
   "cell_type": "code",
   "execution_count": 26,
   "id": "e04527c0",
   "metadata": {},
   "outputs": [
    {
     "name": "stdout",
     "output_type": "stream",
     "text": [
      "(768, 17)\n",
      "(768, 8)\n"
     ]
    }
   ],
   "source": [
    "X = pca.transform(scaled_data)\n",
    "print(scaled_data.shape)\n",
    "print(X.shape)"
   ]
  },
  {
   "cell_type": "code",
   "execution_count": 27,
   "id": "afc9020a",
   "metadata": {},
   "outputs": [
    {
     "data": {
      "text/plain": [
       "array([[ 0.12737141,  0.29864461,  0.24167167,  0.26952595,  0.27822942,\n",
       "         0.30585412,  0.1825994 ,  0.17560736,  0.12737141,  0.29864461,\n",
       "         0.24167167,  0.26952595,  0.27822942,  0.30585412,  0.1825994 ,\n",
       "         0.17560736,  0.23832602],\n",
       "       [ 0.4011477 ,  0.09877228,  0.08354004, -0.27683158, -0.21434009,\n",
       "        -0.10893587, -0.10464503,  0.41313497,  0.4011477 ,  0.09877228,\n",
       "         0.08354004, -0.27683158, -0.21434009, -0.10893587, -0.10464503,\n",
       "         0.41313497,  0.1119832 ],\n",
       "       [-0.04649199,  0.32856341, -0.4124346 , -0.18960835,  0.1930251 ,\n",
       "        -0.22785449,  0.27440035,  0.00585982, -0.04649199,  0.32856341,\n",
       "        -0.4124346 , -0.18960835,  0.1930251 , -0.22785449,  0.27440035,\n",
       "         0.00585982,  0.19659456],\n",
       "       [ 0.06804396, -0.28083182,  0.03504856,  0.03238784, -0.21894208,\n",
       "         0.01119839,  0.60094519,  0.06336983,  0.06804396, -0.28083182,\n",
       "         0.03504856,  0.03238784, -0.21894208,  0.01119839,  0.60094519,\n",
       "         0.06336983, -0.04503865],\n",
       "       [ 0.27935164, -0.24496828, -0.10419814,  0.29230863,  0.34688794,\n",
       "        -0.32058411, -0.04461917,  0.11946878,  0.27935164, -0.24496828,\n",
       "        -0.10419814,  0.29230863,  0.34688794, -0.32058411, -0.04461917,\n",
       "         0.11946878, -0.22927078],\n",
       "       [ 0.23571522, -0.11463162, -0.47073663,  0.14954494, -0.12973624,\n",
       "         0.36948026, -0.10385587, -0.03085932,  0.23571522, -0.11463162,\n",
       "        -0.47073663,  0.14954494, -0.12973624,  0.36948026, -0.10385587,\n",
       "        -0.03085932,  0.21097756],\n",
       "       [-0.39651882, -0.10439615, -0.15222678,  0.0188158 ,  0.04963257,\n",
       "         0.11887266, -0.04201774,  0.52378309, -0.39651882, -0.10439615,\n",
       "        -0.15222678,  0.0188158 ,  0.04963257,  0.11887266, -0.04201774,\n",
       "         0.52378309, -0.17685544],\n",
       "       [-0.10877352,  0.21182287, -0.03073666,  0.45105262, -0.3735005 ,\n",
       "        -0.2771956 , -0.04161608,  0.06094118, -0.10877352,  0.21182287,\n",
       "        -0.03073666,  0.45105262, -0.3735005 , -0.2771956 , -0.04161608,\n",
       "         0.06094118,  0.18504288]])"
      ]
     },
     "execution_count": 27,
     "metadata": {},
     "output_type": "execute_result"
    }
   ],
   "source": [
    "pca.components_"
   ]
  },
  {
   "cell_type": "code",
   "execution_count": 28,
   "id": "8e41e042",
   "metadata": {},
   "outputs": [],
   "source": [
    "from sklearn.model_selection import train_test_split\n",
    "\n",
    "Y = data['Outcome']\n",
    "X_train,X_test,y_train,y_test= train_test_split(X,Y,test_size = 0.2,random_state = 0)"
   ]
  },
  {
   "cell_type": "code",
   "execution_count": 30,
   "id": "03212ff6",
   "metadata": {},
   "outputs": [
    {
     "data": {
      "text/html": [
       "<style>#sk-container-id-3 {color: black;background-color: white;}#sk-container-id-3 pre{padding: 0;}#sk-container-id-3 div.sk-toggleable {background-color: white;}#sk-container-id-3 label.sk-toggleable__label {cursor: pointer;display: block;width: 100%;margin-bottom: 0;padding: 0.3em;box-sizing: border-box;text-align: center;}#sk-container-id-3 label.sk-toggleable__label-arrow:before {content: \"▸\";float: left;margin-right: 0.25em;color: #696969;}#sk-container-id-3 label.sk-toggleable__label-arrow:hover:before {color: black;}#sk-container-id-3 div.sk-estimator:hover label.sk-toggleable__label-arrow:before {color: black;}#sk-container-id-3 div.sk-toggleable__content {max-height: 0;max-width: 0;overflow: hidden;text-align: left;background-color: #f0f8ff;}#sk-container-id-3 div.sk-toggleable__content pre {margin: 0.2em;color: black;border-radius: 0.25em;background-color: #f0f8ff;}#sk-container-id-3 input.sk-toggleable__control:checked~div.sk-toggleable__content {max-height: 200px;max-width: 100%;overflow: auto;}#sk-container-id-3 input.sk-toggleable__control:checked~label.sk-toggleable__label-arrow:before {content: \"▾\";}#sk-container-id-3 div.sk-estimator input.sk-toggleable__control:checked~label.sk-toggleable__label {background-color: #d4ebff;}#sk-container-id-3 div.sk-label input.sk-toggleable__control:checked~label.sk-toggleable__label {background-color: #d4ebff;}#sk-container-id-3 input.sk-hidden--visually {border: 0;clip: rect(1px 1px 1px 1px);clip: rect(1px, 1px, 1px, 1px);height: 1px;margin: -1px;overflow: hidden;padding: 0;position: absolute;width: 1px;}#sk-container-id-3 div.sk-estimator {font-family: monospace;background-color: #f0f8ff;border: 1px dotted black;border-radius: 0.25em;box-sizing: border-box;margin-bottom: 0.5em;}#sk-container-id-3 div.sk-estimator:hover {background-color: #d4ebff;}#sk-container-id-3 div.sk-parallel-item::after {content: \"\";width: 100%;border-bottom: 1px solid gray;flex-grow: 1;}#sk-container-id-3 div.sk-label:hover label.sk-toggleable__label {background-color: #d4ebff;}#sk-container-id-3 div.sk-serial::before {content: \"\";position: absolute;border-left: 1px solid gray;box-sizing: border-box;top: 0;bottom: 0;left: 50%;z-index: 0;}#sk-container-id-3 div.sk-serial {display: flex;flex-direction: column;align-items: center;background-color: white;padding-right: 0.2em;padding-left: 0.2em;position: relative;}#sk-container-id-3 div.sk-item {position: relative;z-index: 1;}#sk-container-id-3 div.sk-parallel {display: flex;align-items: stretch;justify-content: center;background-color: white;position: relative;}#sk-container-id-3 div.sk-item::before, #sk-container-id-3 div.sk-parallel-item::before {content: \"\";position: absolute;border-left: 1px solid gray;box-sizing: border-box;top: 0;bottom: 0;left: 50%;z-index: -1;}#sk-container-id-3 div.sk-parallel-item {display: flex;flex-direction: column;z-index: 1;position: relative;background-color: white;}#sk-container-id-3 div.sk-parallel-item:first-child::after {align-self: flex-end;width: 50%;}#sk-container-id-3 div.sk-parallel-item:last-child::after {align-self: flex-start;width: 50%;}#sk-container-id-3 div.sk-parallel-item:only-child::after {width: 0;}#sk-container-id-3 div.sk-dashed-wrapped {border: 1px dashed gray;margin: 0 0.4em 0.5em 0.4em;box-sizing: border-box;padding-bottom: 0.4em;background-color: white;}#sk-container-id-3 div.sk-label label {font-family: monospace;font-weight: bold;display: inline-block;line-height: 1.2em;}#sk-container-id-3 div.sk-label-container {text-align: center;}#sk-container-id-3 div.sk-container {/* jupyter's `normalize.less` sets `[hidden] { display: none; }` but bootstrap.min.css set `[hidden] { display: none !important; }` so we also need the `!important` here to be able to override the default hidden behavior on the sphinx rendered scikit-learn.org. See: https://github.com/scikit-learn/scikit-learn/issues/21755 */display: inline-block !important;position: relative;}#sk-container-id-3 div.sk-text-repr-fallback {display: none;}</style><div id=\"sk-container-id-3\" class=\"sk-top-container\"><div class=\"sk-text-repr-fallback\"><pre>LinearRegression()</pre><b>In a Jupyter environment, please rerun this cell to show the HTML representation or trust the notebook. <br />On GitHub, the HTML representation is unable to render, please try loading this page with nbviewer.org.</b></div><div class=\"sk-container\" hidden><div class=\"sk-item\"><div class=\"sk-estimator sk-toggleable\"><input class=\"sk-toggleable__control sk-hidden--visually\" id=\"sk-estimator-id-3\" type=\"checkbox\" checked><label for=\"sk-estimator-id-3\" class=\"sk-toggleable__label sk-toggleable__label-arrow\">LinearRegression</label><div class=\"sk-toggleable__content\"><pre>LinearRegression()</pre></div></div></div></div></div>"
      ],
      "text/plain": [
       "LinearRegression()"
      ]
     },
     "execution_count": 30,
     "metadata": {},
     "output_type": "execute_result"
    }
   ],
   "source": [
    "from sklearn.linear_model import LinearRegression\n",
    "regressor = LinearRegression()\n",
    "regressor.fit(X_train,y_train)"
   ]
  },
  {
   "cell_type": "code",
   "execution_count": 31,
   "id": "14f6fdcb",
   "metadata": {},
   "outputs": [],
   "source": [
    "y_pred = regressor.predict(X_test)"
   ]
  },
  {
   "cell_type": "code",
   "execution_count": 32,
   "id": "af2471b2",
   "metadata": {},
   "outputs": [
    {
     "data": {
      "text/plain": [
       "array([ 1.42771691,  0.13107487, -0.0091814 ,  0.72420297,  0.06660907,\n",
       "       -0.16263787,  0.90988518,  0.90053183,  0.27831982,  0.11260367,\n",
       "        0.73422059,  1.12340153,  0.1463295 ,  0.10874891,  0.00583354,\n",
       "        0.13227898,  1.11712812, -0.17364019,  0.27402455,  0.22813409,\n",
       "        0.84045014,  0.61835014,  0.29966678, -0.19973865, -0.1161659 ,\n",
       "        0.41487087, -0.0983421 ,  0.84100465,  0.14491172,  0.13661648,\n",
       "        0.32889797,  0.23520323, -0.05082981,  0.3864141 ,  0.10623395,\n",
       "        0.8955323 ,  0.68031887,  0.04103   ,  0.37745367,  0.73215197,\n",
       "        0.2428913 ,  0.14486701,  0.14743122,  1.1624224 ,  0.64786423,\n",
       "       -0.24753048,  0.09195608,  0.49777636,  0.61935628,  0.56696778,\n",
       "        0.42566353,  0.21313116,  0.99316534,  0.48348065, -0.03766853,\n",
       "       -0.68828792, -0.0535306 ,  0.63712007,  0.59101161,  0.51133869,\n",
       "        0.79893754,  0.30971872,  0.11727401,  0.9537463 ,  0.94192821,\n",
       "        1.22616682,  0.86668144,  0.08480167,  0.30935402,  0.02493239,\n",
       "        0.11433552,  0.45900369,  0.02945175,  0.92340933,  1.06300519,\n",
       "        0.31218889, -0.09672513,  0.49530857, -0.07171316,  0.16440806,\n",
       "        0.21292935,  0.33282676,  0.15114997, -0.13247067,  0.21971254,\n",
       "        0.11120443,  0.65437706,  0.32568982,  0.94910066,  0.08562268,\n",
       "        0.21033067,  0.17700249,  0.22656528, -0.12576434,  0.50002554,\n",
       "        0.24961637,  0.58805415,  0.33887368,  0.56412455,  0.42314569,\n",
       "        0.05191565,  0.04908402,  0.14423287, -0.12115975,  0.60624296,\n",
       "        0.59968515,  0.10827354,  0.38895434, -0.13765279,  1.06641665,\n",
       "        0.0966957 ,  0.49092307,  0.79534492,  0.60887405,  0.59819541,\n",
       "        0.77902837, -0.04098173,  0.52475613,  0.07086301,  0.78370187,\n",
       "        0.32485559,  0.12478667,  0.24041977,  0.34095434,  0.28798968,\n",
       "       -0.09240058,  0.21501628,  0.62311692,  0.27989593,  0.46719163,\n",
       "        0.40018109,  0.10714143, -0.04127853,  0.68133515,  0.20483064,\n",
       "        0.61628137,  0.14132422,  0.64979554,  0.95064089,  0.2255003 ,\n",
       "       -0.00822621,  0.45572397,  0.01912998, -0.14340847,  0.54505827,\n",
       "        0.06392552,  0.00310757,  0.00517098,  0.13769418,  0.36602415,\n",
       "        0.00265859,  0.83072328,  0.05382685,  0.15375249])"
      ]
     },
     "execution_count": 32,
     "metadata": {},
     "output_type": "execute_result"
    }
   ],
   "source": [
    "y_pred"
   ]
  },
  {
   "cell_type": "code",
   "execution_count": 39,
   "id": "4aa271d6",
   "metadata": {},
   "outputs": [
    {
     "data": {
      "text/plain": [
       "(154,)"
      ]
     },
     "execution_count": 39,
     "metadata": {},
     "output_type": "execute_result"
    }
   ],
   "source": [
    "y_pred.shape"
   ]
  },
  {
   "cell_type": "code",
   "execution_count": 33,
   "id": "12837e5e",
   "metadata": {},
   "outputs": [
    {
     "data": {
      "text/plain": [
       "0.5951165050672487"
      ]
     },
     "execution_count": 33,
     "metadata": {},
     "output_type": "execute_result"
    }
   ],
   "source": [
    "from sklearn.metrics import r2_score\n",
    "r2_score(y_test,y_pred)"
   ]
  },
  {
   "cell_type": "code",
   "execution_count": 41,
   "id": "6d2e2732",
   "metadata": {},
   "outputs": [
    {
     "data": {
      "text/plain": [
       "<matplotlib.collections.PathCollection at 0x17171123d60>"
      ]
     },
     "execution_count": 41,
     "metadata": {},
     "output_type": "execute_result"
    },
    {
     "data": {
      "image/png": "[encoded data removed]",
      "text/plain": [
       "<Figure size 432x288 with 1 Axes>"
      ]
     },
     "metadata": {
      "needs_background": "light"
     },
     "output_type": "display_data"
    }
   ],
   "source": [
    "plt.scatter(y_test,y_pred)"
   ]
  },
  {
   "cell_type": "code",
   "execution_count": 35,
   "id": "bea7aa33",
   "metadata": {},
   "outputs": [
    {
     "name": "stdout",
     "output_type": "stream",
     "text": [
      "new_column_index = [5, 7, 2, 6, 4, 2, 7, 3]\n"
     ]
    }
   ],
   "source": [
    "new_column_index = [np.abs(pca.components_[i]).argmax() for i in range(8)]\n",
    "\n",
    "print('new_column_index =',new_column_index)\n"
   ]
  },
  {
   "cell_type": "code",
   "execution_count": 36,
   "id": "764dbde8",
   "metadata": {},
   "outputs": [
    {
     "name": "stdout",
     "output_type": "stream",
     "text": [
      "new_column_set = ['BMI2', 'Age2', 'BloodPressure2', 'DiabetesPedigreeFunction2', 'Insulin2', 'BloodPressure2', 'Age2', 'SkinThickness2']\n"
     ]
    }
   ],
   "source": [
    "new_column_set = []\n",
    "\n",
    "for i in new_column_index:\n",
    "\n",
    "    feature = data.columns[i]\n",
    "\n",
    "    new_column_set.append(feature)\n",
    "\n",
    "   \n",
    "\n",
    "print('new_column_set =',new_column_set)"
   ]
  },
  {
   "cell_type": "code",
   "execution_count": 37,
   "id": "6c6640c9",
   "metadata": {},
   "outputs": [],
   "source": [
    "df = pd.DataFrame(X,columns = new_column_set)"
   ]
  },
  {
   "cell_type": "code",
   "execution_count": 38,
   "id": "7589f722",
   "metadata": {},
   "outputs": [
    {
     "data": {
      "text/html": [
       "<div>\n",
       "<style scoped>\n",
       "    .dataframe tbody tr th:only-of-type {\n",
       "        vertical-align: middle;\n",
       "    }\n",
       "\n",
       "    .dataframe tbody tr th {\n",
       "        vertical-align: top;\n",
       "    }\n",
       "\n",
       "    .dataframe thead th {\n",
       "        text-align: right;\n",
       "    }\n",
       "</style>\n",
       "<table border=\"1\" class=\"dataframe\">\n",
       "  <thead>\n",
       "    <tr style=\"text-align: right;\">\n",
       "      <th></th>\n",
       "      <th>BMI2</th>\n",
       "      <th>Age2</th>\n",
       "      <th>BloodPressure2</th>\n",
       "      <th>DiabetesPedigreeFunction2</th>\n",
       "      <th>Insulin2</th>\n",
       "      <th>BloodPressure2</th>\n",
       "      <th>Age2</th>\n",
       "      <th>SkinThickness2</th>\n",
       "    </tr>\n",
       "  </thead>\n",
       "  <tbody>\n",
       "    <tr>\n",
       "      <th>0</th>\n",
       "      <td>1.967793</td>\n",
       "      <td>1.689432</td>\n",
       "      <td>0.212353</td>\n",
       "      <td>0.670138</td>\n",
       "      <td>-0.184624</td>\n",
       "      <td>0.671069</td>\n",
       "      <td>0.496569</td>\n",
       "      <td>1.821471</td>\n",
       "    </tr>\n",
       "    <tr>\n",
       "      <th>1</th>\n",
       "      <td>-1.856638</td>\n",
       "      <td>-0.937516</td>\n",
       "      <td>-1.030655</td>\n",
       "      <td>0.397250</td>\n",
       "      <td>0.535176</td>\n",
       "      <td>-0.223655</td>\n",
       "      <td>0.702358</td>\n",
       "      <td>0.965378</td>\n",
       "    </tr>\n",
       "    <tr>\n",
       "      <th>2</th>\n",
       "      <td>0.102035</td>\n",
       "      <td>2.519663</td>\n",
       "      <td>2.703027</td>\n",
       "      <td>-0.095533</td>\n",
       "      <td>-1.126697</td>\n",
       "      <td>-0.467060</td>\n",
       "      <td>-2.086505</td>\n",
       "      <td>0.727946</td>\n",
       "    </tr>\n",
       "    <tr>\n",
       "      <th>3</th>\n",
       "      <td>-1.915895</td>\n",
       "      <td>-1.682520</td>\n",
       "      <td>-0.892273</td>\n",
       "      <td>-0.826310</td>\n",
       "      <td>0.544283</td>\n",
       "      <td>-0.268080</td>\n",
       "      <td>-0.056315</td>\n",
       "      <td>-0.093806</td>\n",
       "    </tr>\n",
       "    <tr>\n",
       "      <th>4</th>\n",
       "      <td>3.381895</td>\n",
       "      <td>-3.217612</td>\n",
       "      <td>4.266147</td>\n",
       "      <td>5.739163</td>\n",
       "      <td>-1.221022</td>\n",
       "      <td>1.027305</td>\n",
       "      <td>0.979755</td>\n",
       "      <td>-0.187002</td>\n",
       "    </tr>\n",
       "    <tr>\n",
       "      <th>...</th>\n",
       "      <td>...</td>\n",
       "      <td>...</td>\n",
       "      <td>...</td>\n",
       "      <td>...</td>\n",
       "      <td>...</td>\n",
       "      <td>...</td>\n",
       "      <td>...</td>\n",
       "      <td>...</td>\n",
       "    </tr>\n",
       "    <tr>\n",
       "      <th>763</th>\n",
       "      <td>2.132224</td>\n",
       "      <td>2.251548</td>\n",
       "      <td>-1.855960</td>\n",
       "      <td>-0.381599</td>\n",
       "      <td>3.642851</td>\n",
       "      <td>0.921477</td>\n",
       "      <td>1.608957</td>\n",
       "      <td>0.405780</td>\n",
       "    </tr>\n",
       "    <tr>\n",
       "      <th>764</th>\n",
       "      <td>-0.396772</td>\n",
       "      <td>-0.922815</td>\n",
       "      <td>-1.032490</td>\n",
       "      <td>-0.260441</td>\n",
       "      <td>-0.891090</td>\n",
       "      <td>0.403195</td>\n",
       "      <td>0.111423</td>\n",
       "      <td>0.509047</td>\n",
       "    </tr>\n",
       "    <tr>\n",
       "      <th>765</th>\n",
       "      <td>-0.570732</td>\n",
       "      <td>0.089154</td>\n",
       "      <td>-0.291986</td>\n",
       "      <td>-0.899078</td>\n",
       "      <td>1.077631</td>\n",
       "      <td>-0.544670</td>\n",
       "      <td>-0.561280</td>\n",
       "      <td>0.143662</td>\n",
       "    </tr>\n",
       "    <tr>\n",
       "      <th>766</th>\n",
       "      <td>-0.973047</td>\n",
       "      <td>1.535631</td>\n",
       "      <td>0.980926</td>\n",
       "      <td>-0.382303</td>\n",
       "      <td>-1.532348</td>\n",
       "      <td>-0.081763</td>\n",
       "      <td>1.621654</td>\n",
       "      <td>0.195415</td>\n",
       "    </tr>\n",
       "    <tr>\n",
       "      <th>767</th>\n",
       "      <td>-1.523267</td>\n",
       "      <td>-1.567732</td>\n",
       "      <td>-1.371707</td>\n",
       "      <td>0.073099</td>\n",
       "      <td>-0.019418</td>\n",
       "      <td>-0.017231</td>\n",
       "      <td>0.002563</td>\n",
       "      <td>0.830616</td>\n",
       "    </tr>\n",
       "  </tbody>\n",
       "</table>\n",
       "<p>768 rows × 8 columns</p>\n",
       "</div>"
      ],
      "text/plain": [
       "         BMI2      Age2  BloodPressure2  DiabetesPedigreeFunction2  Insulin2  \\\n",
       "0    1.967793  1.689432        0.212353                   0.670138 -0.184624   \n",
       "1   -1.856638 -0.937516       -1.030655                   0.397250  0.535176   \n",
       "2    0.102035  2.519663        2.703027                  -0.095533 -1.126697   \n",
       "3   -1.915895 -1.682520       -0.892273                  -0.826310  0.544283   \n",
       "4    3.381895 -3.217612        4.266147                   5.739163 -1.221022   \n",
       "..        ...       ...             ...                        ...       ...   \n",
       "763  2.132224  2.251548       -1.855960                  -0.381599  3.642851   \n",
       "764 -0.396772 -0.922815       -1.032490                  -0.260441 -0.891090   \n",
       "765 -0.570732  0.089154       -0.291986                  -0.899078  1.077631   \n",
       "766 -0.973047  1.535631        0.980926                  -0.382303 -1.532348   \n",
       "767 -1.523267 -1.567732       -1.371707                   0.073099 -0.019418   \n",
       "\n",
       "     BloodPressure2      Age2  SkinThickness2  \n",
       "0          0.671069  0.496569        1.821471  \n",
       "1         -0.223655  0.702358        0.965378  \n",
       "2         -0.467060 -2.086505        0.727946  \n",
       "3         -0.268080 -0.056315       -0.093806  \n",
       "4          1.027305  0.979755       -0.187002  \n",
       "..              ...       ...             ...  \n",
       "763        0.921477  1.608957        0.405780  \n",
       "764        0.403195  0.111423        0.509047  \n",
       "765       -0.544670 -0.561280        0.143662  \n",
       "766       -0.081763  1.621654        0.195415  \n",
       "767       -0.017231  0.002563        0.830616  \n",
       "\n",
       "[768 rows x 8 columns]"
      ]
     },
     "execution_count": 38,
     "metadata": {},
     "output_type": "execute_result"
    }
   ],
   "source": [
    "df"
   ]
  },
  {
   "cell_type": "markdown",
   "id": "f6923f90",
   "metadata": {},
   "source": [
    "# Logistic Regression"
   ]
  },
  {
   "cell_type": "code",
   "execution_count": 59,
   "id": "6ab20bfc",
   "metadata": {},
   "outputs": [],
   "source": [
    "from sklearn.model_selection import train_test_split\n",
    "\n",
    "Y = data['Outcome']\n",
    "X_train,X_test,y_train,y_test= train_test_split(X,z,test_size = 0.2,random_state = 0)"
   ]
  },
  {
   "cell_type": "code",
   "execution_count": 60,
   "id": "6ee7c588",
   "metadata": {},
   "outputs": [
    {
     "data": {
      "text/html": [
       "<style>#sk-container-id-6 {color: black;background-color: white;}#sk-container-id-6 pre{padding: 0;}#sk-container-id-6 div.sk-toggleable {background-color: white;}#sk-container-id-6 label.sk-toggleable__label {cursor: pointer;display: block;width: 100%;margin-bottom: 0;padding: 0.3em;box-sizing: border-box;text-align: center;}#sk-container-id-6 label.sk-toggleable__label-arrow:before {content: \"▸\";float: left;margin-right: 0.25em;color: #696969;}#sk-container-id-6 label.sk-toggleable__label-arrow:hover:before {color: black;}#sk-container-id-6 div.sk-estimator:hover label.sk-toggleable__label-arrow:before {color: black;}#sk-container-id-6 div.sk-toggleable__content {max-height: 0;max-width: 0;overflow: hidden;text-align: left;background-color: #f0f8ff;}#sk-container-id-6 div.sk-toggleable__content pre {margin: 0.2em;color: black;border-radius: 0.25em;background-color: #f0f8ff;}#sk-container-id-6 input.sk-toggleable__control:checked~div.sk-toggleable__content {max-height: 200px;max-width: 100%;overflow: auto;}#sk-container-id-6 input.sk-toggleable__control:checked~label.sk-toggleable__label-arrow:before {content: \"▾\";}#sk-container-id-6 div.sk-estimator input.sk-toggleable__control:checked~label.sk-toggleable__label {background-color: #d4ebff;}#sk-container-id-6 div.sk-label input.sk-toggleable__control:checked~label.sk-toggleable__label {background-color: #d4ebff;}#sk-container-id-6 input.sk-hidden--visually {border: 0;clip: rect(1px 1px 1px 1px);clip: rect(1px, 1px, 1px, 1px);height: 1px;margin: -1px;overflow: hidden;padding: 0;position: absolute;width: 1px;}#sk-container-id-6 div.sk-estimator {font-family: monospace;background-color: #f0f8ff;border: 1px dotted black;border-radius: 0.25em;box-sizing: border-box;margin-bottom: 0.5em;}#sk-container-id-6 div.sk-estimator:hover {background-color: #d4ebff;}#sk-container-id-6 div.sk-parallel-item::after {content: \"\";width: 100%;border-bottom: 1px solid gray;flex-grow: 1;}#sk-container-id-6 div.sk-label:hover label.sk-toggleable__label {background-color: #d4ebff;}#sk-container-id-6 div.sk-serial::before {content: \"\";position: absolute;border-left: 1px solid gray;box-sizing: border-box;top: 0;bottom: 0;left: 50%;z-index: 0;}#sk-container-id-6 div.sk-serial {display: flex;flex-direction: column;align-items: center;background-color: white;padding-right: 0.2em;padding-left: 0.2em;position: relative;}#sk-container-id-6 div.sk-item {position: relative;z-index: 1;}#sk-container-id-6 div.sk-parallel {display: flex;align-items: stretch;justify-content: center;background-color: white;position: relative;}#sk-container-id-6 div.sk-item::before, #sk-container-id-6 div.sk-parallel-item::before {content: \"\";position: absolute;border-left: 1px solid gray;box-sizing: border-box;top: 0;bottom: 0;left: 50%;z-index: -1;}#sk-container-id-6 div.sk-parallel-item {display: flex;flex-direction: column;z-index: 1;position: relative;background-color: white;}#sk-container-id-6 div.sk-parallel-item:first-child::after {align-self: flex-end;width: 50%;}#sk-container-id-6 div.sk-parallel-item:last-child::after {align-self: flex-start;width: 50%;}#sk-container-id-6 div.sk-parallel-item:only-child::after {width: 0;}#sk-container-id-6 div.sk-dashed-wrapped {border: 1px dashed gray;margin: 0 0.4em 0.5em 0.4em;box-sizing: border-box;padding-bottom: 0.4em;background-color: white;}#sk-container-id-6 div.sk-label label {font-family: monospace;font-weight: bold;display: inline-block;line-height: 1.2em;}#sk-container-id-6 div.sk-label-container {text-align: center;}#sk-container-id-6 div.sk-container {/* jupyter's `normalize.less` sets `[hidden] { display: none; }` but bootstrap.min.css set `[hidden] { display: none !important; }` so we also need the `!important` here to be able to override the default hidden behavior on the sphinx rendered scikit-learn.org. See: https://github.com/scikit-learn/scikit-learn/issues/21755 */display: inline-block !important;position: relative;}#sk-container-id-6 div.sk-text-repr-fallback {display: none;}</style><div id=\"sk-container-id-6\" class=\"sk-top-container\"><div class=\"sk-text-repr-fallback\"><pre>LogisticRegression()</pre><b>In a Jupyter environment, please rerun this cell to show the HTML representation or trust the notebook. <br />On GitHub, the HTML representation is unable to render, please try loading this page with nbviewer.org.</b></div><div class=\"sk-container\" hidden><div class=\"sk-item\"><div class=\"sk-estimator sk-toggleable\"><input class=\"sk-toggleable__control sk-hidden--visually\" id=\"sk-estimator-id-6\" type=\"checkbox\" checked><label for=\"sk-estimator-id-6\" class=\"sk-toggleable__label sk-toggleable__label-arrow\">LogisticRegression</label><div class=\"sk-toggleable__content\"><pre>LogisticRegression()</pre></div></div></div></div></div>"
      ],
      "text/plain": [
       "LogisticRegression()"
      ]
     },
     "execution_count": 60,
     "metadata": {},
     "output_type": "execute_result"
    }
   ],
   "source": [
    "from sklearn.linear_model import LogisticRegression\n",
    "classifier = LogisticRegression()\n",
    "classifier.fit(X_train,y_train)"
   ]
  },
  {
   "cell_type": "code",
   "execution_count": 66,
   "id": "16be4e47",
   "metadata": {},
   "outputs": [],
   "source": [
    "y_pred1 = classifier.predict(X_test)"
   ]
  },
  {
   "cell_type": "code",
   "execution_count": 67,
   "id": "cf280632",
   "metadata": {},
   "outputs": [
    {
     "data": {
      "text/plain": [
       "array([1, 0, 0, 1, 0, 0, 1, 1, 0, 0, 1, 1, 0, 0, 0, 0, 1, 0, 0, 0, 1, 1,\n",
       "       0, 0, 0, 0, 0, 1, 0, 0, 0, 0, 0, 0, 0, 1, 1, 0, 0, 1, 0, 0, 0, 1,\n",
       "       1, 0, 0, 1, 1, 1, 0, 0, 1, 1, 0, 0, 0, 1, 1, 0, 1, 0, 0, 1, 1, 1,\n",
       "       1, 0, 0, 0, 0, 0, 0, 1, 1, 0, 0, 1, 0, 0, 0, 0, 0, 0, 0, 0, 1, 0,\n",
       "       1, 0, 0, 0, 0, 0, 1, 0, 1, 0, 1, 0, 0, 0, 0, 0, 1, 1, 0, 0, 0, 1,\n",
       "       0, 1, 1, 1, 1, 1, 0, 1, 0, 1, 0, 0, 0, 0, 0, 0, 0, 1, 0, 0, 0, 0,\n",
       "       0, 1, 0, 1, 0, 1, 1, 0, 0, 0, 0, 0, 1, 0, 0, 0, 0, 0, 0, 1, 0, 0],\n",
       "      dtype=int64)"
      ]
     },
     "execution_count": 67,
     "metadata": {},
     "output_type": "execute_result"
    }
   ],
   "source": [
    "y_pred1"
   ]
  },
  {
   "cell_type": "code",
   "execution_count": 68,
   "id": "f0aa05f2",
   "metadata": {},
   "outputs": [
    {
     "data": {
      "text/plain": [
       "(154,)"
      ]
     },
     "execution_count": 68,
     "metadata": {},
     "output_type": "execute_result"
    }
   ],
   "source": [
    "y_pred1.shape"
   ]
  },
  {
   "cell_type": "code",
   "execution_count": 69,
   "id": "f89363cf",
   "metadata": {},
   "outputs": [
    {
     "data": {
      "text/plain": [
       "0.6631537084907537"
      ]
     },
     "execution_count": 69,
     "metadata": {},
     "output_type": "execute_result"
    }
   ],
   "source": [
    "from sklearn.metrics import r2_score, classification_report\n",
    "r2_score(y_test,y_pred1)"
   ]
  },
  {
   "cell_type": "code",
   "execution_count": 70,
   "id": "66eefefb",
   "metadata": {},
   "outputs": [],
   "source": [
    "clf=classification_report(y_test, y_pred1, output_dict = True)"
   ]
  },
  {
   "cell_type": "code",
   "execution_count": 72,
   "id": "f0852bc5",
   "metadata": {},
   "outputs": [
    {
     "data": {
      "text/html": [
       "<div>\n",
       "<style scoped>\n",
       "    .dataframe tbody tr th:only-of-type {\n",
       "        vertical-align: middle;\n",
       "    }\n",
       "\n",
       "    .dataframe tbody tr th {\n",
       "        vertical-align: top;\n",
       "    }\n",
       "\n",
       "    .dataframe thead th {\n",
       "        text-align: right;\n",
       "    }\n",
       "</style>\n",
       "<table border=\"1\" class=\"dataframe\">\n",
       "  <thead>\n",
       "    <tr style=\"text-align: right;\">\n",
       "      <th></th>\n",
       "      <th>0</th>\n",
       "      <th>1</th>\n",
       "      <th>accuracy</th>\n",
       "      <th>macro avg</th>\n",
       "      <th>weighted avg</th>\n",
       "    </tr>\n",
       "  </thead>\n",
       "  <tbody>\n",
       "    <tr>\n",
       "      <th>precision</th>\n",
       "      <td>0.970588</td>\n",
       "      <td>0.846154</td>\n",
       "      <td>0.928571</td>\n",
       "      <td>0.908371</td>\n",
       "      <td>0.932612</td>\n",
       "    </tr>\n",
       "    <tr>\n",
       "      <th>recall</th>\n",
       "      <td>0.925234</td>\n",
       "      <td>0.936170</td>\n",
       "      <td>0.928571</td>\n",
       "      <td>0.930702</td>\n",
       "      <td>0.928571</td>\n",
       "    </tr>\n",
       "    <tr>\n",
       "      <th>f1-score</th>\n",
       "      <td>0.947368</td>\n",
       "      <td>0.888889</td>\n",
       "      <td>0.928571</td>\n",
       "      <td>0.918129</td>\n",
       "      <td>0.929521</td>\n",
       "    </tr>\n",
       "    <tr>\n",
       "      <th>support</th>\n",
       "      <td>107.000000</td>\n",
       "      <td>47.000000</td>\n",
       "      <td>0.928571</td>\n",
       "      <td>154.000000</td>\n",
       "      <td>154.000000</td>\n",
       "    </tr>\n",
       "  </tbody>\n",
       "</table>\n",
       "</div>"
      ],
      "text/plain": [
       "                    0          1  accuracy   macro avg  weighted avg\n",
       "precision    0.970588   0.846154  0.928571    0.908371      0.932612\n",
       "recall       0.925234   0.936170  0.928571    0.930702      0.928571\n",
       "f1-score     0.947368   0.888889  0.928571    0.918129      0.929521\n",
       "support    107.000000  47.000000  0.928571  154.000000    154.000000"
      ]
     },
     "execution_count": 72,
     "metadata": {},
     "output_type": "execute_result"
    }
   ],
   "source": [
    "report = pd.DataFrame(clf)\n",
    "report"
   ]
  },
  {
   "cell_type": "code",
   "execution_count": 73,
   "id": "c44da136",
   "metadata": {},
   "outputs": [],
   "source": [
    "from sklearn.metrics import confusion_matrix"
   ]
  },
  {
   "cell_type": "code",
   "execution_count": 76,
   "id": "d301e063",
   "metadata": {},
   "outputs": [
    {
     "data": {
      "text/plain": [
       "array([[99,  8],\n",
       "       [ 3, 44]], dtype=int64)"
      ]
     },
     "execution_count": 76,
     "metadata": {},
     "output_type": "execute_result"
    }
   ],
   "source": [
    "a = confusion_matrix(y_test, y_pred1)\n",
    "a"
   ]
  },
  {
   "cell_type": "code",
   "execution_count": 77,
   "id": "06766182",
   "metadata": {},
   "outputs": [
    {
     "data": {
      "text/plain": [
       "<AxesSubplot:>"
      ]
     },
     "execution_count": 77,
     "metadata": {},
     "output_type": "execute_result"
    },
    {
     "data": {
      "image/png": "[encoded data removed]",
      "text/plain": [
       "<Figure size 432x288 with 2 Axes>"
      ]
     },
     "metadata": {
      "needs_background": "light"
     },
     "output_type": "display_data"
    }
   ],
   "source": [
    "sns.heatmap(a, annot = True)"
   ]
  },
  {
   "cell_type": "code",
   "execution_count": 78,
   "id": "70128c99",
   "metadata": {},
   "outputs": [
    {
     "data": {
      "text/plain": [
       "<matplotlib.collections.PathCollection at 0x171723276d0>"
      ]
     },
     "execution_count": 78,
     "metadata": {},
     "output_type": "execute_result"
    },
    {
     "data": {
      "image/png": "[encoded data removed]",
      "text/plain": [
       "<Figure size 432x288 with 1 Axes>"
      ]
     },
     "metadata": {
      "needs_background": "light"
     },
     "output_type": "display_data"
    }
   ],
   "source": [
    "plt.scatter(y_test,y_pred1)"
   ]
  },
  {
   "cell_type": "code",
   "execution_count": 79,
   "id": "24ab7ff5",
   "metadata": {},
   "outputs": [
    {
     "name": "stdout",
     "output_type": "stream",
     "text": [
      "new_column_index = [5, 7, 2, 6, 4, 2, 7, 3]\n"
     ]
    }
   ],
   "source": [
    "new_column_index = [np.abs(pca.components_[i]).argmax() for i in range(8)]\n",
    "\n",
    "print('new_column_index =',new_column_index)\n"
   ]
  },
  {
   "cell_type": "code",
   "execution_count": 80,
   "id": "52759dc5",
   "metadata": {},
   "outputs": [
    {
     "name": "stdout",
     "output_type": "stream",
     "text": [
      "new_column_set = ['BMI2', 'Age2', 'BloodPressure2', 'DiabetesPedigreeFunction2', 'Insulin2', 'BloodPressure2', 'Age2', 'SkinThickness2']\n"
     ]
    }
   ],
   "source": [
    "new_column_set = []\n",
    "\n",
    "for i in new_column_index:\n",
    "\n",
    "    feature = data.columns[i]\n",
    "\n",
    "    new_column_set.append(feature)\n",
    "\n",
    "   \n",
    "\n",
    "print('new_column_set =',new_column_set)"
   ]
  },
  {
   "cell_type": "code",
   "execution_count": 81,
   "id": "2fb7f720",
   "metadata": {},
   "outputs": [],
   "source": [
    "df3 = pd.DataFrame(X,columns = new_column_set)"
   ]
  },
  {
   "cell_type": "code",
   "execution_count": 82,
   "id": "12f1d5e6",
   "metadata": {},
   "outputs": [
    {
     "data": {
      "text/html": [
       "<div>\n",
       "<style scoped>\n",
       "    .dataframe tbody tr th:only-of-type {\n",
       "        vertical-align: middle;\n",
       "    }\n",
       "\n",
       "    .dataframe tbody tr th {\n",
       "        vertical-align: top;\n",
       "    }\n",
       "\n",
       "    .dataframe thead th {\n",
       "        text-align: right;\n",
       "    }\n",
       "</style>\n",
       "<table border=\"1\" class=\"dataframe\">\n",
       "  <thead>\n",
       "    <tr style=\"text-align: right;\">\n",
       "      <th></th>\n",
       "      <th>BMI2</th>\n",
       "      <th>Age2</th>\n",
       "      <th>BloodPressure2</th>\n",
       "      <th>DiabetesPedigreeFunction2</th>\n",
       "      <th>Insulin2</th>\n",
       "      <th>BloodPressure2</th>\n",
       "      <th>Age2</th>\n",
       "      <th>SkinThickness2</th>\n",
       "    </tr>\n",
       "  </thead>\n",
       "  <tbody>\n",
       "    <tr>\n",
       "      <th>0</th>\n",
       "      <td>1.967793</td>\n",
       "      <td>1.689432</td>\n",
       "      <td>0.212353</td>\n",
       "      <td>0.670138</td>\n",
       "      <td>-0.184624</td>\n",
       "      <td>0.671069</td>\n",
       "      <td>0.496569</td>\n",
       "      <td>1.821471</td>\n",
       "    </tr>\n",
       "    <tr>\n",
       "      <th>1</th>\n",
       "      <td>-1.856638</td>\n",
       "      <td>-0.937516</td>\n",
       "      <td>-1.030655</td>\n",
       "      <td>0.397250</td>\n",
       "      <td>0.535176</td>\n",
       "      <td>-0.223655</td>\n",
       "      <td>0.702358</td>\n",
       "      <td>0.965378</td>\n",
       "    </tr>\n",
       "    <tr>\n",
       "      <th>2</th>\n",
       "      <td>0.102035</td>\n",
       "      <td>2.519663</td>\n",
       "      <td>2.703027</td>\n",
       "      <td>-0.095533</td>\n",
       "      <td>-1.126697</td>\n",
       "      <td>-0.467060</td>\n",
       "      <td>-2.086505</td>\n",
       "      <td>0.727946</td>\n",
       "    </tr>\n",
       "    <tr>\n",
       "      <th>3</th>\n",
       "      <td>-1.915895</td>\n",
       "      <td>-1.682520</td>\n",
       "      <td>-0.892273</td>\n",
       "      <td>-0.826310</td>\n",
       "      <td>0.544283</td>\n",
       "      <td>-0.268080</td>\n",
       "      <td>-0.056315</td>\n",
       "      <td>-0.093806</td>\n",
       "    </tr>\n",
       "    <tr>\n",
       "      <th>4</th>\n",
       "      <td>3.381895</td>\n",
       "      <td>-3.217612</td>\n",
       "      <td>4.266147</td>\n",
       "      <td>5.739163</td>\n",
       "      <td>-1.221022</td>\n",
       "      <td>1.027305</td>\n",
       "      <td>0.979755</td>\n",
       "      <td>-0.187002</td>\n",
       "    </tr>\n",
       "    <tr>\n",
       "      <th>...</th>\n",
       "      <td>...</td>\n",
       "      <td>...</td>\n",
       "      <td>...</td>\n",
       "      <td>...</td>\n",
       "      <td>...</td>\n",
       "      <td>...</td>\n",
       "      <td>...</td>\n",
       "      <td>...</td>\n",
       "    </tr>\n",
       "    <tr>\n",
       "      <th>763</th>\n",
       "      <td>2.132224</td>\n",
       "      <td>2.251548</td>\n",
       "      <td>-1.855960</td>\n",
       "      <td>-0.381599</td>\n",
       "      <td>3.642851</td>\n",
       "      <td>0.921477</td>\n",
       "      <td>1.608957</td>\n",
       "      <td>0.405780</td>\n",
       "    </tr>\n",
       "    <tr>\n",
       "      <th>764</th>\n",
       "      <td>-0.396772</td>\n",
       "      <td>-0.922815</td>\n",
       "      <td>-1.032490</td>\n",
       "      <td>-0.260441</td>\n",
       "      <td>-0.891090</td>\n",
       "      <td>0.403195</td>\n",
       "      <td>0.111423</td>\n",
       "      <td>0.509047</td>\n",
       "    </tr>\n",
       "    <tr>\n",
       "      <th>765</th>\n",
       "      <td>-0.570732</td>\n",
       "      <td>0.089154</td>\n",
       "      <td>-0.291986</td>\n",
       "      <td>-0.899078</td>\n",
       "      <td>1.077631</td>\n",
       "      <td>-0.544670</td>\n",
       "      <td>-0.561280</td>\n",
       "      <td>0.143662</td>\n",
       "    </tr>\n",
       "    <tr>\n",
       "      <th>766</th>\n",
       "      <td>-0.973047</td>\n",
       "      <td>1.535631</td>\n",
       "      <td>0.980926</td>\n",
       "      <td>-0.382303</td>\n",
       "      <td>-1.532348</td>\n",
       "      <td>-0.081763</td>\n",
       "      <td>1.621654</td>\n",
       "      <td>0.195415</td>\n",
       "    </tr>\n",
       "    <tr>\n",
       "      <th>767</th>\n",
       "      <td>-1.523267</td>\n",
       "      <td>-1.567732</td>\n",
       "      <td>-1.371707</td>\n",
       "      <td>0.073099</td>\n",
       "      <td>-0.019418</td>\n",
       "      <td>-0.017231</td>\n",
       "      <td>0.002563</td>\n",
       "      <td>0.830616</td>\n",
       "    </tr>\n",
       "  </tbody>\n",
       "</table>\n",
       "<p>768 rows × 8 columns</p>\n",
       "</div>"
      ],
      "text/plain": [
       "         BMI2      Age2  BloodPressure2  DiabetesPedigreeFunction2  Insulin2  \\\n",
       "0    1.967793  1.689432        0.212353                   0.670138 -0.184624   \n",
       "1   -1.856638 -0.937516       -1.030655                   0.397250  0.535176   \n",
       "2    0.102035  2.519663        2.703027                  -0.095533 -1.126697   \n",
       "3   -1.915895 -1.682520       -0.892273                  -0.826310  0.544283   \n",
       "4    3.381895 -3.217612        4.266147                   5.739163 -1.221022   \n",
       "..        ...       ...             ...                        ...       ...   \n",
       "763  2.132224  2.251548       -1.855960                  -0.381599  3.642851   \n",
       "764 -0.396772 -0.922815       -1.032490                  -0.260441 -0.891090   \n",
       "765 -0.570732  0.089154       -0.291986                  -0.899078  1.077631   \n",
       "766 -0.973047  1.535631        0.980926                  -0.382303 -1.532348   \n",
       "767 -1.523267 -1.567732       -1.371707                   0.073099 -0.019418   \n",
       "\n",
       "     BloodPressure2      Age2  SkinThickness2  \n",
       "0          0.671069  0.496569        1.821471  \n",
       "1         -0.223655  0.702358        0.965378  \n",
       "2         -0.467060 -2.086505        0.727946  \n",
       "3         -0.268080 -0.056315       -0.093806  \n",
       "4          1.027305  0.979755       -0.187002  \n",
       "..              ...       ...             ...  \n",
       "763        0.921477  1.608957        0.405780  \n",
       "764        0.403195  0.111423        0.509047  \n",
       "765       -0.544670 -0.561280        0.143662  \n",
       "766       -0.081763  1.621654        0.195415  \n",
       "767       -0.017231  0.002563        0.830616  \n",
       "\n",
       "[768 rows x 8 columns]"
      ]
     },
     "execution_count": 82,
     "metadata": {},
     "output_type": "execute_result"
    }
   ],
   "source": [
    "df3"
   ]
  },
  {
   "cell_type": "markdown",
   "id": "67a35e73",
   "metadata": {},
   "source": [
    "# Decision Tree:"
   ]
  },
  {
   "cell_type": "code",
   "execution_count": 83,
   "id": "2f523ac4",
   "metadata": {},
   "outputs": [],
   "source": [
    "from sklearn.tree import DecisionTreeClassifier"
   ]
  },
  {
   "cell_type": "code",
   "execution_count": 85,
   "id": "f70bc3fa",
   "metadata": {},
   "outputs": [
    {
     "data": {
      "text/html": [
       "<style>#sk-container-id-7 {color: black;background-color: white;}#sk-container-id-7 pre{padding: 0;}#sk-container-id-7 div.sk-toggleable {background-color: white;}#sk-container-id-7 label.sk-toggleable__label {cursor: pointer;display: block;width: 100%;margin-bottom: 0;padding: 0.3em;box-sizing: border-box;text-align: center;}#sk-container-id-7 label.sk-toggleable__label-arrow:before {content: \"▸\";float: left;margin-right: 0.25em;color: #696969;}#sk-container-id-7 label.sk-toggleable__label-arrow:hover:before {color: black;}#sk-container-id-7 div.sk-estimator:hover label.sk-toggleable__label-arrow:before {color: black;}#sk-container-id-7 div.sk-toggleable__content {max-height: 0;max-width: 0;overflow: hidden;text-align: left;background-color: #f0f8ff;}#sk-container-id-7 div.sk-toggleable__content pre {margin: 0.2em;color: black;border-radius: 0.25em;background-color: #f0f8ff;}#sk-container-id-7 input.sk-toggleable__control:checked~div.sk-toggleable__content {max-height: 200px;max-width: 100%;overflow: auto;}#sk-container-id-7 input.sk-toggleable__control:checked~label.sk-toggleable__label-arrow:before {content: \"▾\";}#sk-container-id-7 div.sk-estimator input.sk-toggleable__control:checked~label.sk-toggleable__label {background-color: #d4ebff;}#sk-container-id-7 div.sk-label input.sk-toggleable__control:checked~label.sk-toggleable__label {background-color: #d4ebff;}#sk-container-id-7 input.sk-hidden--visually {border: 0;clip: rect(1px 1px 1px 1px);clip: rect(1px, 1px, 1px, 1px);height: 1px;margin: -1px;overflow: hidden;padding: 0;position: absolute;width: 1px;}#sk-container-id-7 div.sk-estimator {font-family: monospace;background-color: #f0f8ff;border: 1px dotted black;border-radius: 0.25em;box-sizing: border-box;margin-bottom: 0.5em;}#sk-container-id-7 div.sk-estimator:hover {background-color: #d4ebff;}#sk-container-id-7 div.sk-parallel-item::after {content: \"\";width: 100%;border-bottom: 1px solid gray;flex-grow: 1;}#sk-container-id-7 div.sk-label:hover label.sk-toggleable__label {background-color: #d4ebff;}#sk-container-id-7 div.sk-serial::before {content: \"\";position: absolute;border-left: 1px solid gray;box-sizing: border-box;top: 0;bottom: 0;left: 50%;z-index: 0;}#sk-container-id-7 div.sk-serial {display: flex;flex-direction: column;align-items: center;background-color: white;padding-right: 0.2em;padding-left: 0.2em;position: relative;}#sk-container-id-7 div.sk-item {position: relative;z-index: 1;}#sk-container-id-7 div.sk-parallel {display: flex;align-items: stretch;justify-content: center;background-color: white;position: relative;}#sk-container-id-7 div.sk-item::before, #sk-container-id-7 div.sk-parallel-item::before {content: \"\";position: absolute;border-left: 1px solid gray;box-sizing: border-box;top: 0;bottom: 0;left: 50%;z-index: -1;}#sk-container-id-7 div.sk-parallel-item {display: flex;flex-direction: column;z-index: 1;position: relative;background-color: white;}#sk-container-id-7 div.sk-parallel-item:first-child::after {align-self: flex-end;width: 50%;}#sk-container-id-7 div.sk-parallel-item:last-child::after {align-self: flex-start;width: 50%;}#sk-container-id-7 div.sk-parallel-item:only-child::after {width: 0;}#sk-container-id-7 div.sk-dashed-wrapped {border: 1px dashed gray;margin: 0 0.4em 0.5em 0.4em;box-sizing: border-box;padding-bottom: 0.4em;background-color: white;}#sk-container-id-7 div.sk-label label {font-family: monospace;font-weight: bold;display: inline-block;line-height: 1.2em;}#sk-container-id-7 div.sk-label-container {text-align: center;}#sk-container-id-7 div.sk-container {/* jupyter's `normalize.less` sets `[hidden] { display: none; }` but bootstrap.min.css set `[hidden] { display: none !important; }` so we also need the `!important` here to be able to override the default hidden behavior on the sphinx rendered scikit-learn.org. See: https://github.com/scikit-learn/scikit-learn/issues/21755 */display: inline-block !important;position: relative;}#sk-container-id-7 div.sk-text-repr-fallback {display: none;}</style><div id=\"sk-container-id-7\" class=\"sk-top-container\"><div class=\"sk-text-repr-fallback\"><pre>DecisionTreeClassifier(criterion=&#x27;entropy&#x27;, random_state=0)</pre><b>In a Jupyter environment, please rerun this cell to show the HTML representation or trust the notebook. <br />On GitHub, the HTML representation is unable to render, please try loading this page with nbviewer.org.</b></div><div class=\"sk-container\" hidden><div class=\"sk-item\"><div class=\"sk-estimator sk-toggleable\"><input class=\"sk-toggleable__control sk-hidden--visually\" id=\"sk-estimator-id-7\" type=\"checkbox\" checked><label for=\"sk-estimator-id-7\" class=\"sk-toggleable__label sk-toggleable__label-arrow\">DecisionTreeClassifier</label><div class=\"sk-toggleable__content\"><pre>DecisionTreeClassifier(criterion=&#x27;entropy&#x27;, random_state=0)</pre></div></div></div></div></div>"
      ],
      "text/plain": [
       "DecisionTreeClassifier(criterion='entropy', random_state=0)"
      ]
     },
     "execution_count": 85,
     "metadata": {},
     "output_type": "execute_result"
    }
   ],
   "source": [
    "from sklearn.tree import DecisionTreeClassifier\n",
    "classifier = DecisionTreeClassifier(criterion = 'entropy',random_state = 0)\n",
    "classifier.fit(X_train,y_train) "
   ]
  },
  {
   "cell_type": "code",
   "execution_count": 86,
   "id": "80038b7e",
   "metadata": {},
   "outputs": [],
   "source": [
    "y_pred2 = classifier.predict(X_test)"
   ]
  },
  {
   "cell_type": "code",
   "execution_count": 89,
   "id": "5b407068",
   "metadata": {},
   "outputs": [
    {
     "data": {
      "text/plain": [
       "array([1, 0, 1, 1, 0, 0, 1, 1, 1, 0, 1, 1, 0, 0, 0, 0, 1, 0, 0, 0, 0, 0,\n",
       "       0, 0, 0, 1, 0, 1, 0, 0, 0, 0, 0, 1, 0, 1, 0, 0, 1, 0, 0, 1, 0, 1,\n",
       "       0, 0, 0, 0, 1, 1, 0, 0, 1, 0, 0, 0, 0, 0, 1, 0, 0, 0, 0, 1, 1, 1,\n",
       "       1, 0, 0, 0, 0, 0, 0, 0, 1, 1, 0, 0, 0, 0, 0, 0, 0, 0, 0, 0, 0, 1,\n",
       "       1, 1, 0, 0, 0, 0, 1, 0, 1, 0, 1, 1, 1, 0, 0, 0, 1, 1, 0, 0, 0, 1,\n",
       "       0, 1, 1, 1, 0, 1, 0, 1, 0, 1, 0, 0, 0, 0, 1, 0, 0, 1, 1, 1, 0, 1,\n",
       "       0, 1, 0, 0, 0, 1, 1, 0, 0, 1, 0, 0, 1, 0, 0, 0, 0, 0, 0, 0, 0, 0],\n",
       "      dtype=int64)"
      ]
     },
     "execution_count": 89,
     "metadata": {},
     "output_type": "execute_result"
    }
   ],
   "source": [
    "y_pred2"
   ]
  },
  {
   "cell_type": "code",
   "execution_count": 92,
   "id": "39d4584f",
   "metadata": {},
   "outputs": [
    {
     "name": "stdout",
     "output_type": "stream",
     "text": [
      "[[88 19]\n",
      " [13 34]]\n"
     ]
    },
    {
     "data": {
      "text/plain": [
       "0.7922077922077922"
      ]
     },
     "execution_count": 92,
     "metadata": {},
     "output_type": "execute_result"
    }
   ],
   "source": [
    "from sklearn.metrics import confusion_matrix,accuracy_score\n",
    "cm = confusion_matrix(y_test,y_pred2)\n",
    "print(cm)\n",
    "accuracy_score(y_test,y_pred2)"
   ]
  },
  {
   "cell_type": "code",
   "execution_count": 93,
   "id": "bfedc52b",
   "metadata": {},
   "outputs": [
    {
     "data": {
      "text/plain": [
       "0.020083515609465197"
      ]
     },
     "execution_count": 93,
     "metadata": {},
     "output_type": "execute_result"
    }
   ],
   "source": [
    "from sklearn.metrics import r2_score, classification_report\n",
    "r2_score(y_test,y_pred2)"
   ]
  },
  {
   "cell_type": "code",
   "execution_count": 94,
   "id": "2dafa3e8",
   "metadata": {},
   "outputs": [],
   "source": [
    "clf2=classification_report(y_test, y_pred1, output_dict = True)"
   ]
  },
  {
   "cell_type": "code",
   "execution_count": 95,
   "id": "a7d54c46",
   "metadata": {},
   "outputs": [
    {
     "data": {
      "text/html": [
       "<div>\n",
       "<style scoped>\n",
       "    .dataframe tbody tr th:only-of-type {\n",
       "        vertical-align: middle;\n",
       "    }\n",
       "\n",
       "    .dataframe tbody tr th {\n",
       "        vertical-align: top;\n",
       "    }\n",
       "\n",
       "    .dataframe thead th {\n",
       "        text-align: right;\n",
       "    }\n",
       "</style>\n",
       "<table border=\"1\" class=\"dataframe\">\n",
       "  <thead>\n",
       "    <tr style=\"text-align: right;\">\n",
       "      <th></th>\n",
       "      <th>0</th>\n",
       "      <th>1</th>\n",
       "      <th>accuracy</th>\n",
       "      <th>macro avg</th>\n",
       "      <th>weighted avg</th>\n",
       "    </tr>\n",
       "  </thead>\n",
       "  <tbody>\n",
       "    <tr>\n",
       "      <th>precision</th>\n",
       "      <td>0.970588</td>\n",
       "      <td>0.846154</td>\n",
       "      <td>0.928571</td>\n",
       "      <td>0.908371</td>\n",
       "      <td>0.932612</td>\n",
       "    </tr>\n",
       "    <tr>\n",
       "      <th>recall</th>\n",
       "      <td>0.925234</td>\n",
       "      <td>0.936170</td>\n",
       "      <td>0.928571</td>\n",
       "      <td>0.930702</td>\n",
       "      <td>0.928571</td>\n",
       "    </tr>\n",
       "    <tr>\n",
       "      <th>f1-score</th>\n",
       "      <td>0.947368</td>\n",
       "      <td>0.888889</td>\n",
       "      <td>0.928571</td>\n",
       "      <td>0.918129</td>\n",
       "      <td>0.929521</td>\n",
       "    </tr>\n",
       "    <tr>\n",
       "      <th>support</th>\n",
       "      <td>107.000000</td>\n",
       "      <td>47.000000</td>\n",
       "      <td>0.928571</td>\n",
       "      <td>154.000000</td>\n",
       "      <td>154.000000</td>\n",
       "    </tr>\n",
       "  </tbody>\n",
       "</table>\n",
       "</div>"
      ],
      "text/plain": [
       "                    0          1  accuracy   macro avg  weighted avg\n",
       "precision    0.970588   0.846154  0.928571    0.908371      0.932612\n",
       "recall       0.925234   0.936170  0.928571    0.930702      0.928571\n",
       "f1-score     0.947368   0.888889  0.928571    0.918129      0.929521\n",
       "support    107.000000  47.000000  0.928571  154.000000    154.000000"
      ]
     },
     "execution_count": 95,
     "metadata": {},
     "output_type": "execute_result"
    }
   ],
   "source": [
    "report2 = pd.DataFrame(clf)\n",
    "report2"
   ]
  },
  {
   "cell_type": "code",
   "execution_count": 97,
   "id": "fffeb559",
   "metadata": {},
   "outputs": [
    {
     "data": {
      "text/plain": [
       "<AxesSubplot:>"
      ]
     },
     "execution_count": 97,
     "metadata": {},
     "output_type": "execute_result"
    },
    {
     "data": {
      "image/png": "[encoded data removed]",
      "text/plain": [
       "<Figure size 432x288 with 2 Axes>"
      ]
     },
     "metadata": {
      "needs_background": "light"
     },
     "output_type": "display_data"
    }
   ],
   "source": [
    "sns.heatmap(cm, annot = True)"
   ]
  },
  {
   "cell_type": "code",
   "execution_count": 98,
   "id": "1850dcce",
   "metadata": {},
   "outputs": [],
   "source": [
    "from sklearn.tree import plot_tree"
   ]
  },
  {
   "cell_type": "code",
   "execution_count": 99,
   "id": "3460355c",
   "metadata": {},
   "outputs": [
    {
     "data": {
      "image/png": "[encoded data removed]",
      "text/plain": [
       "<Figure size 1440x720 with 1 Axes>"
      ]
     },
     "metadata": {
      "needs_background": "light"
     },
     "output_type": "display_data"
    }
   ],
   "source": [
    "plt.figure(figsize = (20,10))\n",
    "plot_tree(classifier, filled  = True)\n",
    "plt.show()"
   ]
  },
  {
   "cell_type": "code",
   "execution_count": 109,
   "id": "1bd29860",
   "metadata": {},
   "outputs": [
    {
     "name": "stdout",
     "output_type": "stream",
     "text": [
      "new_column_index = [5, 7, 2, 6, 4, 2, 7, 3]\n"
     ]
    }
   ],
   "source": [
    "new_column_index = [np.abs(pca.components_[i]).argmax() for i in range(8)]\n",
    "\n",
    "print('new_column_index =',new_column_index)\n"
   ]
  },
  {
   "cell_type": "code",
   "execution_count": 110,
   "id": "48977893",
   "metadata": {},
   "outputs": [
    {
     "name": "stdout",
     "output_type": "stream",
     "text": [
      "new_column_set = ['BMI2', 'Age2', 'BloodPressure2', 'DiabetesPedigreeFunction2', 'Insulin2', 'BloodPressure2', 'Age2', 'SkinThickness2']\n"
     ]
    }
   ],
   "source": [
    "new_column_set = []\n",
    "\n",
    "for i in new_column_index:\n",
    "\n",
    "    feature = data.columns[i]\n",
    "\n",
    "    new_column_set.append(feature)\n",
    "\n",
    "   \n",
    "\n",
    "print('new_column_set =',new_column_set)"
   ]
  },
  {
   "cell_type": "code",
   "execution_count": 111,
   "id": "1ee7414e",
   "metadata": {},
   "outputs": [],
   "source": [
    "df6 = pd.DataFrame(X,columns = new_column_set)"
   ]
  },
  {
   "cell_type": "code",
   "execution_count": 112,
   "id": "78df648b",
   "metadata": {},
   "outputs": [
    {
     "data": {
      "text/html": [
       "<div>\n",
       "<style scoped>\n",
       "    .dataframe tbody tr th:only-of-type {\n",
       "        vertical-align: middle;\n",
       "    }\n",
       "\n",
       "    .dataframe tbody tr th {\n",
       "        vertical-align: top;\n",
       "    }\n",
       "\n",
       "    .dataframe thead th {\n",
       "        text-align: right;\n",
       "    }\n",
       "</style>\n",
       "<table border=\"1\" class=\"dataframe\">\n",
       "  <thead>\n",
       "    <tr style=\"text-align: right;\">\n",
       "      <th></th>\n",
       "      <th>BMI2</th>\n",
       "      <th>Age2</th>\n",
       "      <th>BloodPressure2</th>\n",
       "      <th>DiabetesPedigreeFunction2</th>\n",
       "      <th>Insulin2</th>\n",
       "      <th>BloodPressure2</th>\n",
       "      <th>Age2</th>\n",
       "      <th>SkinThickness2</th>\n",
       "    </tr>\n",
       "  </thead>\n",
       "  <tbody>\n",
       "    <tr>\n",
       "      <th>0</th>\n",
       "      <td>1.967793</td>\n",
       "      <td>1.689432</td>\n",
       "      <td>0.212353</td>\n",
       "      <td>0.670138</td>\n",
       "      <td>-0.184624</td>\n",
       "      <td>0.671069</td>\n",
       "      <td>0.496569</td>\n",
       "      <td>1.821471</td>\n",
       "    </tr>\n",
       "    <tr>\n",
       "      <th>1</th>\n",
       "      <td>-1.856638</td>\n",
       "      <td>-0.937516</td>\n",
       "      <td>-1.030655</td>\n",
       "      <td>0.397250</td>\n",
       "      <td>0.535176</td>\n",
       "      <td>-0.223655</td>\n",
       "      <td>0.702358</td>\n",
       "      <td>0.965378</td>\n",
       "    </tr>\n",
       "    <tr>\n",
       "      <th>2</th>\n",
       "      <td>0.102035</td>\n",
       "      <td>2.519663</td>\n",
       "      <td>2.703027</td>\n",
       "      <td>-0.095533</td>\n",
       "      <td>-1.126697</td>\n",
       "      <td>-0.467060</td>\n",
       "      <td>-2.086505</td>\n",
       "      <td>0.727946</td>\n",
       "    </tr>\n",
       "    <tr>\n",
       "      <th>3</th>\n",
       "      <td>-1.915895</td>\n",
       "      <td>-1.682520</td>\n",
       "      <td>-0.892273</td>\n",
       "      <td>-0.826310</td>\n",
       "      <td>0.544283</td>\n",
       "      <td>-0.268080</td>\n",
       "      <td>-0.056315</td>\n",
       "      <td>-0.093806</td>\n",
       "    </tr>\n",
       "    <tr>\n",
       "      <th>4</th>\n",
       "      <td>3.381895</td>\n",
       "      <td>-3.217612</td>\n",
       "      <td>4.266147</td>\n",
       "      <td>5.739163</td>\n",
       "      <td>-1.221022</td>\n",
       "      <td>1.027305</td>\n",
       "      <td>0.979755</td>\n",
       "      <td>-0.187002</td>\n",
       "    </tr>\n",
       "    <tr>\n",
       "      <th>...</th>\n",
       "      <td>...</td>\n",
       "      <td>...</td>\n",
       "      <td>...</td>\n",
       "      <td>...</td>\n",
       "      <td>...</td>\n",
       "      <td>...</td>\n",
       "      <td>...</td>\n",
       "      <td>...</td>\n",
       "    </tr>\n",
       "    <tr>\n",
       "      <th>763</th>\n",
       "      <td>2.132224</td>\n",
       "      <td>2.251548</td>\n",
       "      <td>-1.855960</td>\n",
       "      <td>-0.381599</td>\n",
       "      <td>3.642851</td>\n",
       "      <td>0.921477</td>\n",
       "      <td>1.608957</td>\n",
       "      <td>0.405780</td>\n",
       "    </tr>\n",
       "    <tr>\n",
       "      <th>764</th>\n",
       "      <td>-0.396772</td>\n",
       "      <td>-0.922815</td>\n",
       "      <td>-1.032490</td>\n",
       "      <td>-0.260441</td>\n",
       "      <td>-0.891090</td>\n",
       "      <td>0.403195</td>\n",
       "      <td>0.111423</td>\n",
       "      <td>0.509047</td>\n",
       "    </tr>\n",
       "    <tr>\n",
       "      <th>765</th>\n",
       "      <td>-0.570732</td>\n",
       "      <td>0.089154</td>\n",
       "      <td>-0.291986</td>\n",
       "      <td>-0.899078</td>\n",
       "      <td>1.077631</td>\n",
       "      <td>-0.544670</td>\n",
       "      <td>-0.561280</td>\n",
       "      <td>0.143662</td>\n",
       "    </tr>\n",
       "    <tr>\n",
       "      <th>766</th>\n",
       "      <td>-0.973047</td>\n",
       "      <td>1.535631</td>\n",
       "      <td>0.980926</td>\n",
       "      <td>-0.382303</td>\n",
       "      <td>-1.532348</td>\n",
       "      <td>-0.081763</td>\n",
       "      <td>1.621654</td>\n",
       "      <td>0.195415</td>\n",
       "    </tr>\n",
       "    <tr>\n",
       "      <th>767</th>\n",
       "      <td>-1.523267</td>\n",
       "      <td>-1.567732</td>\n",
       "      <td>-1.371707</td>\n",
       "      <td>0.073099</td>\n",
       "      <td>-0.019418</td>\n",
       "      <td>-0.017231</td>\n",
       "      <td>0.002563</td>\n",
       "      <td>0.830616</td>\n",
       "    </tr>\n",
       "  </tbody>\n",
       "</table>\n",
       "<p>768 rows × 8 columns</p>\n",
       "</div>"
      ],
      "text/plain": [
       "         BMI2      Age2  BloodPressure2  DiabetesPedigreeFunction2  Insulin2  \\\n",
       "0    1.967793  1.689432        0.212353                   0.670138 -0.184624   \n",
       "1   -1.856638 -0.937516       -1.030655                   0.397250  0.535176   \n",
       "2    0.102035  2.519663        2.703027                  -0.095533 -1.126697   \n",
       "3   -1.915895 -1.682520       -0.892273                  -0.826310  0.544283   \n",
       "4    3.381895 -3.217612        4.266147                   5.739163 -1.221022   \n",
       "..        ...       ...             ...                        ...       ...   \n",
       "763  2.132224  2.251548       -1.855960                  -0.381599  3.642851   \n",
       "764 -0.396772 -0.922815       -1.032490                  -0.260441 -0.891090   \n",
       "765 -0.570732  0.089154       -0.291986                  -0.899078  1.077631   \n",
       "766 -0.973047  1.535631        0.980926                  -0.382303 -1.532348   \n",
       "767 -1.523267 -1.567732       -1.371707                   0.073099 -0.019418   \n",
       "\n",
       "     BloodPressure2      Age2  SkinThickness2  \n",
       "0          0.671069  0.496569        1.821471  \n",
       "1         -0.223655  0.702358        0.965378  \n",
       "2         -0.467060 -2.086505        0.727946  \n",
       "3         -0.268080 -0.056315       -0.093806  \n",
       "4          1.027305  0.979755       -0.187002  \n",
       "..              ...       ...             ...  \n",
       "763        0.921477  1.608957        0.405780  \n",
       "764        0.403195  0.111423        0.509047  \n",
       "765       -0.544670 -0.561280        0.143662  \n",
       "766       -0.081763  1.621654        0.195415  \n",
       "767       -0.017231  0.002563        0.830616  \n",
       "\n",
       "[768 rows x 8 columns]"
      ]
     },
     "execution_count": 112,
     "metadata": {},
     "output_type": "execute_result"
    }
   ],
   "source": [
    "df6"
   ]
  },
  {
   "cell_type": "markdown",
   "id": "00ab7ce3",
   "metadata": {},
   "source": [
    "# Random Forest classifier:"
   ]
  },
  {
   "cell_type": "code",
   "execution_count": 100,
   "id": "7d465d90",
   "metadata": {},
   "outputs": [
    {
     "data": {
      "text/html": [
       "<style>#sk-container-id-8 {color: black;background-color: white;}#sk-container-id-8 pre{padding: 0;}#sk-container-id-8 div.sk-toggleable {background-color: white;}#sk-container-id-8 label.sk-toggleable__label {cursor: pointer;display: block;width: 100%;margin-bottom: 0;padding: 0.3em;box-sizing: border-box;text-align: center;}#sk-container-id-8 label.sk-toggleable__label-arrow:before {content: \"▸\";float: left;margin-right: 0.25em;color: #696969;}#sk-container-id-8 label.sk-toggleable__label-arrow:hover:before {color: black;}#sk-container-id-8 div.sk-estimator:hover label.sk-toggleable__label-arrow:before {color: black;}#sk-container-id-8 div.sk-toggleable__content {max-height: 0;max-width: 0;overflow: hidden;text-align: left;background-color: #f0f8ff;}#sk-container-id-8 div.sk-toggleable__content pre {margin: 0.2em;color: black;border-radius: 0.25em;background-color: #f0f8ff;}#sk-container-id-8 input.sk-toggleable__control:checked~div.sk-toggleable__content {max-height: 200px;max-width: 100%;overflow: auto;}#sk-container-id-8 input.sk-toggleable__control:checked~label.sk-toggleable__label-arrow:before {content: \"▾\";}#sk-container-id-8 div.sk-estimator input.sk-toggleable__control:checked~label.sk-toggleable__label {background-color: #d4ebff;}#sk-container-id-8 div.sk-label input.sk-toggleable__control:checked~label.sk-toggleable__label {background-color: #d4ebff;}#sk-container-id-8 input.sk-hidden--visually {border: 0;clip: rect(1px 1px 1px 1px);clip: rect(1px, 1px, 1px, 1px);height: 1px;margin: -1px;overflow: hidden;padding: 0;position: absolute;width: 1px;}#sk-container-id-8 div.sk-estimator {font-family: monospace;background-color: #f0f8ff;border: 1px dotted black;border-radius: 0.25em;box-sizing: border-box;margin-bottom: 0.5em;}#sk-container-id-8 div.sk-estimator:hover {background-color: #d4ebff;}#sk-container-id-8 div.sk-parallel-item::after {content: \"\";width: 100%;border-bottom: 1px solid gray;flex-grow: 1;}#sk-container-id-8 div.sk-label:hover label.sk-toggleable__label {background-color: #d4ebff;}#sk-container-id-8 div.sk-serial::before {content: \"\";position: absolute;border-left: 1px solid gray;box-sizing: border-box;top: 0;bottom: 0;left: 50%;z-index: 0;}#sk-container-id-8 div.sk-serial {display: flex;flex-direction: column;align-items: center;background-color: white;padding-right: 0.2em;padding-left: 0.2em;position: relative;}#sk-container-id-8 div.sk-item {position: relative;z-index: 1;}#sk-container-id-8 div.sk-parallel {display: flex;align-items: stretch;justify-content: center;background-color: white;position: relative;}#sk-container-id-8 div.sk-item::before, #sk-container-id-8 div.sk-parallel-item::before {content: \"\";position: absolute;border-left: 1px solid gray;box-sizing: border-box;top: 0;bottom: 0;left: 50%;z-index: -1;}#sk-container-id-8 div.sk-parallel-item {display: flex;flex-direction: column;z-index: 1;position: relative;background-color: white;}#sk-container-id-8 div.sk-parallel-item:first-child::after {align-self: flex-end;width: 50%;}#sk-container-id-8 div.sk-parallel-item:last-child::after {align-self: flex-start;width: 50%;}#sk-container-id-8 div.sk-parallel-item:only-child::after {width: 0;}#sk-container-id-8 div.sk-dashed-wrapped {border: 1px dashed gray;margin: 0 0.4em 0.5em 0.4em;box-sizing: border-box;padding-bottom: 0.4em;background-color: white;}#sk-container-id-8 div.sk-label label {font-family: monospace;font-weight: bold;display: inline-block;line-height: 1.2em;}#sk-container-id-8 div.sk-label-container {text-align: center;}#sk-container-id-8 div.sk-container {/* jupyter's `normalize.less` sets `[hidden] { display: none; }` but bootstrap.min.css set `[hidden] { display: none !important; }` so we also need the `!important` here to be able to override the default hidden behavior on the sphinx rendered scikit-learn.org. See: https://github.com/scikit-learn/scikit-learn/issues/21755 */display: inline-block !important;position: relative;}#sk-container-id-8 div.sk-text-repr-fallback {display: none;}</style><div id=\"sk-container-id-8\" class=\"sk-top-container\"><div class=\"sk-text-repr-fallback\"><pre>RandomForestClassifier(criterion=&#x27;entropy&#x27;, n_estimators=10, random_state=0)</pre><b>In a Jupyter environment, please rerun this cell to show the HTML representation or trust the notebook. <br />On GitHub, the HTML representation is unable to render, please try loading this page with nbviewer.org.</b></div><div class=\"sk-container\" hidden><div class=\"sk-item\"><div class=\"sk-estimator sk-toggleable\"><input class=\"sk-toggleable__control sk-hidden--visually\" id=\"sk-estimator-id-8\" type=\"checkbox\" checked><label for=\"sk-estimator-id-8\" class=\"sk-toggleable__label sk-toggleable__label-arrow\">RandomForestClassifier</label><div class=\"sk-toggleable__content\"><pre>RandomForestClassifier(criterion=&#x27;entropy&#x27;, n_estimators=10, random_state=0)</pre></div></div></div></div></div>"
      ],
      "text/plain": [
       "RandomForestClassifier(criterion='entropy', n_estimators=10, random_state=0)"
      ]
     },
     "execution_count": 100,
     "metadata": {},
     "output_type": "execute_result"
    }
   ],
   "source": [
    "from sklearn.ensemble import RandomForestClassifier\n",
    "classifier3 = RandomForestClassifier(n_estimators = 10,criterion = 'entropy',random_state = 0)\n",
    "classifier3.fit(X_train, y_train)"
   ]
  },
  {
   "cell_type": "code",
   "execution_count": 101,
   "id": "1e104e8b",
   "metadata": {},
   "outputs": [],
   "source": [
    "y_pred4 = classifier3.predict(X_test)"
   ]
  },
  {
   "cell_type": "code",
   "execution_count": 102,
   "id": "d033c726",
   "metadata": {},
   "outputs": [
    {
     "name": "stdout",
     "output_type": "stream",
     "text": [
      "[[100   7]\n",
      " [ 10  37]]\n"
     ]
    },
    {
     "data": {
      "text/plain": [
       "0.8896103896103896"
      ]
     },
     "execution_count": 102,
     "metadata": {},
     "output_type": "execute_result"
    }
   ],
   "source": [
    "from sklearn.metrics import confusion_matrix,accuracy_score\n",
    "cm4 = confusion_matrix(y_test,y_pred4)\n",
    "print(cm4)\n",
    "accuracy_score(y_test,y_pred4)"
   ]
  },
  {
   "cell_type": "code",
   "execution_count": 103,
   "id": "a2c79378",
   "metadata": {},
   "outputs": [
    {
     "data": {
      "text/plain": [
       "<AxesSubplot:>"
      ]
     },
     "execution_count": 103,
     "metadata": {},
     "output_type": "execute_result"
    },
    {
     "data": {
      "image/png": "[encoded data removed]",
      "text/plain": [
       "<Figure size 432x288 with 2 Axes>"
      ]
     },
     "metadata": {
      "needs_background": "light"
     },
     "output_type": "display_data"
    }
   ],
   "source": [
    "sns.heatmap(cm4, annot = True)"
   ]
  },
  {
   "cell_type": "code",
   "execution_count": 104,
   "id": "6d46499e",
   "metadata": {},
   "outputs": [
    {
     "data": {
      "text/html": [
       "<div>\n",
       "<style scoped>\n",
       "    .dataframe tbody tr th:only-of-type {\n",
       "        vertical-align: middle;\n",
       "    }\n",
       "\n",
       "    .dataframe tbody tr th {\n",
       "        vertical-align: top;\n",
       "    }\n",
       "\n",
       "    .dataframe thead th {\n",
       "        text-align: right;\n",
       "    }\n",
       "</style>\n",
       "<table border=\"1\" class=\"dataframe\">\n",
       "  <thead>\n",
       "    <tr style=\"text-align: right;\">\n",
       "      <th></th>\n",
       "      <th>precision</th>\n",
       "      <th>recall</th>\n",
       "      <th>f1-score</th>\n",
       "      <th>support</th>\n",
       "    </tr>\n",
       "  </thead>\n",
       "  <tbody>\n",
       "    <tr>\n",
       "      <th>0</th>\n",
       "      <td>0.909091</td>\n",
       "      <td>0.934579</td>\n",
       "      <td>0.921659</td>\n",
       "      <td>107.00000</td>\n",
       "    </tr>\n",
       "    <tr>\n",
       "      <th>1</th>\n",
       "      <td>0.840909</td>\n",
       "      <td>0.787234</td>\n",
       "      <td>0.813187</td>\n",
       "      <td>47.00000</td>\n",
       "    </tr>\n",
       "    <tr>\n",
       "      <th>accuracy</th>\n",
       "      <td>0.889610</td>\n",
       "      <td>0.889610</td>\n",
       "      <td>0.889610</td>\n",
       "      <td>0.88961</td>\n",
       "    </tr>\n",
       "    <tr>\n",
       "      <th>macro avg</th>\n",
       "      <td>0.875000</td>\n",
       "      <td>0.860907</td>\n",
       "      <td>0.867423</td>\n",
       "      <td>154.00000</td>\n",
       "    </tr>\n",
       "    <tr>\n",
       "      <th>weighted avg</th>\n",
       "      <td>0.888282</td>\n",
       "      <td>0.889610</td>\n",
       "      <td>0.888554</td>\n",
       "      <td>154.00000</td>\n",
       "    </tr>\n",
       "  </tbody>\n",
       "</table>\n",
       "</div>"
      ],
      "text/plain": [
       "              precision    recall  f1-score    support\n",
       "0              0.909091  0.934579  0.921659  107.00000\n",
       "1              0.840909  0.787234  0.813187   47.00000\n",
       "accuracy       0.889610  0.889610  0.889610    0.88961\n",
       "macro avg      0.875000  0.860907  0.867423  154.00000\n",
       "weighted avg   0.888282  0.889610  0.888554  154.00000"
      ]
     },
     "execution_count": 104,
     "metadata": {},
     "output_type": "execute_result"
    }
   ],
   "source": [
    "from sklearn.metrics import classification_report\n",
    "report = classification_report(y_test,y_pred4,output_dict = True)\n",
    "df5 = pd.DataFrame(report).transpose()\n",
    "df5"
   ]
  },
  {
   "cell_type": "code",
   "execution_count": 105,
   "id": "36b9b96f",
   "metadata": {},
   "outputs": [],
   "source": [
    "from sklearn.tree import plot_tree"
   ]
  },
  {
   "cell_type": "code",
   "execution_count": 108,
   "id": "b717c423",
   "metadata": {},
   "outputs": [
    {
     "data": {
      "image/png": "[encoded data removed]",
      "text/plain": [
       "<Figure size 1440x720 with 1 Axes>"
      ]
     },
     "metadata": {
      "needs_background": "light"
     },
     "output_type": "display_data"
    }
   ],
   "source": [
    "tree = classifier3.estimators_[0]\n",
    "plt.figure(figsize=(20, 10))\n",
    "plot_tree(tree, filled=True)\n",
    "plt.show()\n"
   ]
  },
  {
   "cell_type": "code",
   "execution_count": null,
   "id": "e0969cdf",
   "metadata": {},
   "outputs": [],
   "source": []
  }
 ],
 "metadata": {
  "kernelspec": {
   "display_name": "Python 3 (ipykernel)",
   "language": "python",
   "name": "python3"
  },
  "language_info": {
   "codemirror_mode": {
    "name": "ipython",
    "version": 3
   },
   "file_extension": ".py",
   "mimetype": "text/x-python",
   "name": "python",
   "nbconvert_exporter": "python",
   "pygments_lexer": "ipython3",
   "version": "3.10.9"
  }
 },
 "nbformat": 4,
 "nbformat_minor": 5
}
